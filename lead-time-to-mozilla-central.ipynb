{
 "cells": [
  {
   "cell_type": "markdown",
   "metadata": {},
   "source": [
    "# Firefox engineering bug-to-nightly lead time trends\n",
    "\n",
    "Has the time from a bug being filed until all changesets addressing that bug have been submitted to the mozilla-central source repository changed significantly from 2016 to 2018?"
   ]
  },
  {
   "cell_type": "code",
   "execution_count": 1,
   "metadata": {},
   "outputs": [],
   "source": [
    "import pandas as pd\n",
    "import seaborn as sns\n",
    "\n",
    "sns.set_style(\"darkgrid\")"
   ]
  },
  {
   "cell_type": "markdown",
   "metadata": {},
   "source": [
    "We'll use a 3 month block, January to March in 2016, 2017, and 2018.  This should eliminate any large month-to-month effects.  The data should also be consistant because no major team event happens during these months."
   ]
  },
  {
   "cell_type": "code",
   "execution_count": 2,
   "metadata": {},
   "outputs": [],
   "source": [
    "files = ['data/nightly-{}{}.parq'.format(y, m)\n",
    "         for y in (2016, 2017, 2018) \n",
    "         for m in ('01', '02', '03')]"
   ]
  },
  {
   "cell_type": "code",
   "execution_count": 3,
   "metadata": {},
   "outputs": [
    {
     "data": {
      "text/plain": [
       "(40092, 8)"
      ]
     },
     "execution_count": 3,
     "metadata": {},
     "output_type": "execute_result"
    }
   ],
   "source": [
    "df = pd.concat([pd.read_parquet(fn) for fn in files], ignore_index=True)\n",
    "df.shape"
   ]
  },
  {
   "cell_type": "markdown",
   "metadata": {},
   "source": [
    "Fix the timezone locale"
   ]
  },
  {
   "cell_type": "code",
   "execution_count": 4,
   "metadata": {},
   "outputs": [],
   "source": [
    "df['bug_creation_time'] = df['bug_creation_time'].dt.tz_localize('UTC')\n",
    "df['changeset_pushtime'] = df['changeset_pushtime'].dt.tz_localize('UTC')"
   ]
  },
  {
   "cell_type": "markdown",
   "metadata": {},
   "source": [
    "For our \"time from changeset inception until changeset fix\" calculation we will take the time from when a changeset was created until the time that changeset was availalbe for download as a nightly build."
   ]
  },
  {
   "cell_type": "code",
   "execution_count": 5,
   "metadata": {},
   "outputs": [
    {
     "data": {
      "text/plain": [
       "Timedelta('-640 days +07:59:25')"
      ]
     },
     "execution_count": 5,
     "metadata": {},
     "output_type": "execute_result"
    }
   ],
   "source": [
    "df['duration'] = df['changeset_pushtime'] - df['bug_creation_time']\n",
    "df['duration'].min()"
   ]
  },
  {
   "cell_type": "markdown",
   "metadata": {},
   "source": [
    "Clean up bad negative timedeltas."
   ]
  },
  {
   "cell_type": "code",
   "execution_count": 6,
   "metadata": {},
   "outputs": [
    {
     "data": {
      "text/plain": [
       "Timedelta('0 days 00:02:45')"
      ]
     },
     "execution_count": 6,
     "metadata": {},
     "output_type": "execute_result"
    }
   ],
   "source": [
    "# Scrub negative bug creation times\n",
    "df = df.drop(df[df['duration'].dt.days < 0].index)\n",
    "df['duration'].min()"
   ]
  },
  {
   "cell_type": "code",
   "execution_count": 7,
   "metadata": {},
   "outputs": [],
   "source": [
    "grouped = df.groupby(df['changeset_pushtime'].dt.year)"
   ]
  },
  {
   "cell_type": "code",
   "execution_count": 10,
   "metadata": {},
   "outputs": [
    {
     "data": {
      "text/html": [
       "<div>\n",
       "<style scoped>\n",
       "    .dataframe tbody tr th:only-of-type {\n",
       "        vertical-align: middle;\n",
       "    }\n",
       "\n",
       "    .dataframe tbody tr th {\n",
       "        vertical-align: top;\n",
       "    }\n",
       "\n",
       "    .dataframe thead th {\n",
       "        text-align: right;\n",
       "    }\n",
       "</style>\n",
       "<table border=\"1\" class=\"dataframe\">\n",
       "  <thead>\n",
       "    <tr style=\"text-align: right;\">\n",
       "      <th></th>\n",
       "      <th>count</th>\n",
       "      <th>mean</th>\n",
       "      <th>std</th>\n",
       "      <th>min</th>\n",
       "      <th>25%</th>\n",
       "      <th>50%</th>\n",
       "      <th>75%</th>\n",
       "      <th>max</th>\n",
       "    </tr>\n",
       "    <tr>\n",
       "      <th>changeset_pushtime</th>\n",
       "      <th></th>\n",
       "      <th></th>\n",
       "      <th></th>\n",
       "      <th></th>\n",
       "      <th></th>\n",
       "      <th></th>\n",
       "      <th></th>\n",
       "      <th></th>\n",
       "    </tr>\n",
       "  </thead>\n",
       "  <tbody>\n",
       "    <tr>\n",
       "      <th>2016</th>\n",
       "      <td>11793</td>\n",
       "      <td>268 days 13:06:23.801492</td>\n",
       "      <td>976 days 01:41:17.925739</td>\n",
       "      <td>0 days 00:07:46</td>\n",
       "      <td>3 days 16:53:09</td>\n",
       "      <td>13 days 20:23:31</td>\n",
       "      <td>77 days 05:48:09</td>\n",
       "      <td>6162 days 02:12:57</td>\n",
       "    </tr>\n",
       "    <tr>\n",
       "      <th>2017</th>\n",
       "      <td>16166</td>\n",
       "      <td>1320 days 07:53:05.728256</td>\n",
       "      <td>2470 days 13:34:54.749854</td>\n",
       "      <td>0 days 00:02:45</td>\n",
       "      <td>5 days 11:39:00</td>\n",
       "      <td>26 days 17:33:08.500000</td>\n",
       "      <td>405 days 13:00:12.750000</td>\n",
       "      <td>7067 days 10:59:06</td>\n",
       "    </tr>\n",
       "    <tr>\n",
       "      <th>2018</th>\n",
       "      <td>12132</td>\n",
       "      <td>374 days 00:24:31.408341</td>\n",
       "      <td>1306 days 18:01:18.867007</td>\n",
       "      <td>0 days 00:03:08</td>\n",
       "      <td>2 days 20:01:27.250000</td>\n",
       "      <td>12 days 14:01:22.500000</td>\n",
       "      <td>66 days 00:24:00</td>\n",
       "      <td>6694 days 12:12:09</td>\n",
       "    </tr>\n",
       "  </tbody>\n",
       "</table>\n",
       "</div>"
      ],
      "text/plain": [
       "                    count                       mean  \\\n",
       "changeset_pushtime                                     \n",
       "2016                11793   268 days 13:06:23.801492   \n",
       "2017                16166  1320 days 07:53:05.728256   \n",
       "2018                12132   374 days 00:24:31.408341   \n",
       "\n",
       "                                          std              min  \\\n",
       "changeset_pushtime                                               \n",
       "2016                 976 days 01:41:17.925739  0 days 00:07:46   \n",
       "2017                2470 days 13:34:54.749854  0 days 00:02:45   \n",
       "2018                1306 days 18:01:18.867007  0 days 00:03:08   \n",
       "\n",
       "                                       25%                      50%  \\\n",
       "changeset_pushtime                                                    \n",
       "2016                       3 days 16:53:09         13 days 20:23:31   \n",
       "2017                       5 days 11:39:00  26 days 17:33:08.500000   \n",
       "2018                2 days 20:01:27.250000  12 days 14:01:22.500000   \n",
       "\n",
       "                                         75%                 max  \n",
       "changeset_pushtime                                                \n",
       "2016                        77 days 05:48:09  6162 days 02:12:57  \n",
       "2017                405 days 13:00:12.750000  7067 days 10:59:06  \n",
       "2018                        66 days 00:24:00  6694 days 12:12:09  "
      ]
     },
     "execution_count": 10,
     "metadata": {},
     "output_type": "execute_result"
    }
   ],
   "source": [
    "grouped['duration'].describe()"
   ]
  },
  {
   "cell_type": "code",
   "execution_count": 11,
   "metadata": {},
   "outputs": [
    {
     "data": {
      "image/png": "[encoded data removed]",
      "text/plain": [
       "<Figure size 432x288 with 1 Axes>"
      ]
     },
     "metadata": {
      "needs_background": "light"
     },
     "output_type": "display_data"
    }
   ],
   "source": [
    "for year, data in grouped['duration']:\n",
    "    ax = sns.kdeplot(data.dt.days, label=year)\n",
    "    ax.set(xlabel=\"days to hit mozilla-central\")"
   ]
  },
  {
   "cell_type": "markdown",
   "metadata": {},
   "source": [
    "## Fixes landing within 90 days of bug filing\n",
    "\n",
    "Focus on changesets that took less than 90 days from bug filing until the time that the fix landed in mozilla-central.  That range describes the majority of code landings."
   ]
  },
  {
   "cell_type": "code",
   "execution_count": 13,
   "metadata": {},
   "outputs": [],
   "source": [
    "last90 = df[df['duration'].dt.days <= 90]"
   ]
  },
  {
   "cell_type": "code",
   "execution_count": 17,
   "metadata": {},
   "outputs": [
    {
     "data": {
      "text/html": [
       "<div>\n",
       "<style scoped>\n",
       "    .dataframe tbody tr th:only-of-type {\n",
       "        vertical-align: middle;\n",
       "    }\n",
       "\n",
       "    .dataframe tbody tr th {\n",
       "        vertical-align: top;\n",
       "    }\n",
       "\n",
       "    .dataframe thead th {\n",
       "        text-align: right;\n",
       "    }\n",
       "</style>\n",
       "<table border=\"1\" class=\"dataframe\">\n",
       "  <thead>\n",
       "    <tr style=\"text-align: right;\">\n",
       "      <th></th>\n",
       "      <th>count</th>\n",
       "      <th>mean</th>\n",
       "      <th>std</th>\n",
       "      <th>min</th>\n",
       "      <th>25%</th>\n",
       "      <th>50%</th>\n",
       "      <th>75%</th>\n",
       "      <th>max</th>\n",
       "    </tr>\n",
       "    <tr>\n",
       "      <th>changeset_pushtime</th>\n",
       "      <th></th>\n",
       "      <th></th>\n",
       "      <th></th>\n",
       "      <th></th>\n",
       "      <th></th>\n",
       "      <th></th>\n",
       "      <th></th>\n",
       "      <th></th>\n",
       "    </tr>\n",
       "  </thead>\n",
       "  <tbody>\n",
       "    <tr>\n",
       "      <th>2016</th>\n",
       "      <td>9089</td>\n",
       "      <td>16 days 19:48:38.627241</td>\n",
       "      <td>20 days 16:48:28.148811</td>\n",
       "      <td>0 days 00:07:46</td>\n",
       "      <td>2 days 14:53:00</td>\n",
       "      <td>7 days 15:04:30</td>\n",
       "      <td>21 days 21:45:40</td>\n",
       "      <td>90 days 19:55:27</td>\n",
       "    </tr>\n",
       "    <tr>\n",
       "      <th>2017</th>\n",
       "      <td>10539</td>\n",
       "      <td>18 days 02:05:49.521871</td>\n",
       "      <td>21 days 14:43:28.441428</td>\n",
       "      <td>0 days 00:02:45</td>\n",
       "      <td>2 days 18:16:05</td>\n",
       "      <td>8 days 01:21:53</td>\n",
       "      <td>25 days 02:02:30</td>\n",
       "      <td>90 days 22:01:31</td>\n",
       "    </tr>\n",
       "    <tr>\n",
       "      <th>2018</th>\n",
       "      <td>9542</td>\n",
       "      <td>16 days 05:00:04.746908</td>\n",
       "      <td>20 days 18:46:34.732766</td>\n",
       "      <td>0 days 00:03:08</td>\n",
       "      <td>1 days 23:49:50.250000</td>\n",
       "      <td>6 days 11:17:26</td>\n",
       "      <td>22 days 07:42:30</td>\n",
       "      <td>90 days 21:52:38</td>\n",
       "    </tr>\n",
       "  </tbody>\n",
       "</table>\n",
       "</div>"
      ],
      "text/plain": [
       "                    count                     mean                      std  \\\n",
       "changeset_pushtime                                                            \n",
       "2016                 9089  16 days 19:48:38.627241  20 days 16:48:28.148811   \n",
       "2017                10539  18 days 02:05:49.521871  21 days 14:43:28.441428   \n",
       "2018                 9542  16 days 05:00:04.746908  20 days 18:46:34.732766   \n",
       "\n",
       "                                min                     25%              50%  \\\n",
       "changeset_pushtime                                                             \n",
       "2016                0 days 00:07:46         2 days 14:53:00  7 days 15:04:30   \n",
       "2017                0 days 00:02:45         2 days 18:16:05  8 days 01:21:53   \n",
       "2018                0 days 00:03:08  1 days 23:49:50.250000  6 days 11:17:26   \n",
       "\n",
       "                                 75%               max  \n",
       "changeset_pushtime                                      \n",
       "2016                21 days 21:45:40  90 days 19:55:27  \n",
       "2017                25 days 02:02:30  90 days 22:01:31  \n",
       "2018                22 days 07:42:30  90 days 21:52:38  "
      ]
     },
     "execution_count": 17,
     "metadata": {},
     "output_type": "execute_result"
    }
   ],
   "source": [
    "grouped = last90['duration'].groupby(last90['changeset_pushtime'].dt.year)\n",
    "grouped.describe()"
   ]
  },
  {
   "cell_type": "code",
   "execution_count": 22,
   "metadata": {},
   "outputs": [
    {
     "data": {
      "image/png": "[encoded data removed]",
      "text/plain": [
       "<Figure size 432x288 with 1 Axes>"
      ]
     },
     "metadata": {
      "needs_background": "light"
     },
     "output_type": "display_data"
    }
   ],
   "source": [
    "ax = sns.distplot(grouped.get_group(2018).dt.days, kde=False)\n",
    "ax.set(xlabel=\"days to m-c\", ylabel=\"changeset count\");"
   ]
  },
  {
   "cell_type": "markdown",
   "metadata": {},
   "source": [
    "Let's see how this looks fit to a KDE plot."
   ]
  },
  {
   "cell_type": "code",
   "execution_count": 23,
   "metadata": {},
   "outputs": [
    {
     "data": {
      "image/png": "[encoded data removed]",
      "text/plain": [
       "<Figure size 432x288 with 1 Axes>"
      ]
     },
     "metadata": {
      "needs_background": "light"
     },
     "output_type": "display_data"
    }
   ],
   "source": [
    "ax = sns.distplot(grouped.get_group(2018).dt.days)\n",
    "ax.set(xlabel=\"days to m-c\", ylabel=\"changeset count\");"
   ]
  },
  {
   "cell_type": "markdown",
   "metadata": {},
   "source": [
    "Now we can compare the result with other years."
   ]
  },
  {
   "cell_type": "code",
   "execution_count": 24,
   "metadata": {},
   "outputs": [
    {
     "data": {
      "image/png": "[encoded data removed]",
      "text/plain": [
       "<Figure size 432x288 with 1 Axes>"
      ]
     },
     "metadata": {
      "needs_background": "light"
     },
     "output_type": "display_data"
    }
   ],
   "source": [
    "for year, data in grouped:\n",
    "    ax = sns.kdeplot(data.dt.days, label=year)\n",
    "    ax.set(xlabel=\"days to m-c\")"
   ]
  },
  {
   "cell_type": "markdown",
   "metadata": {},
   "source": [
    "A cumulative distribution shows us the difference in bug fix times between years as \"percent of changeset-duration-to-mozilla-central durations that fall below a given percent of the total\"."
   ]
  },
  {
   "cell_type": "code",
   "execution_count": 26,
   "metadata": {},
   "outputs": [
    {
     "data": {
      "image/png": "[encoded data removed]",
      "text/plain": [
       "<Figure size 432x288 with 1 Axes>"
      ]
     },
     "metadata": {
      "needs_background": "light"
     },
     "output_type": "display_data"
    }
   ],
   "source": [
    "for year, data in grouped:\n",
    "    ax = sns.kdeplot(data.dt.days, label=year, cumulative=True)\n",
    "    ax.set(xlabel=\"days to m-c\", ylabel=\"% of changesets\")"
   ]
  },
  {
   "cell_type": "code",
   "execution_count": null,
   "metadata": {},
   "outputs": [],
   "source": []
  }
 ],
 "metadata": {
  "kernelspec": {
   "display_name": "Python 3",
   "language": "python",
   "name": "python3"
  },
  "language_info": {
   "codemirror_mode": {
    "name": "ipython",
    "version": 3
   },
   "file_extension": ".py",
   "mimetype": "text/x-python",
   "name": "python",
   "nbconvert_exporter": "python",
   "pygments_lexer": "ipython3",
   "version": "3.6.5"
  }
 },
 "nbformat": 4,
 "nbformat_minor": 2
}
