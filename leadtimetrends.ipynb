{
 "cells": [
  {
   "cell_type": "markdown",
   "metadata": {},
   "source": [
    "# Firefox engineering bug-to-nightly lead time trends\n",
    "\n",
    "Has the time from a bug being filed until all changesets addressing that bug have been fixed changed significantly from 2016 to 2018?"
   ]
  },
  {
   "cell_type": "code",
   "execution_count": 1,
   "metadata": {},
   "outputs": [],
   "source": [
    "import pandas as pd\n",
    "import seaborn as sns\n",
    "\n",
    "sns.set_style(\"darkgrid\")"
   ]
  },
  {
   "cell_type": "markdown",
   "metadata": {},
   "source": [
    "We'll use a 3 month block, January to March in 2016, 2017, and 2018.  This should eliminate any large month-to-month effects.  The data should also be consistant because no major team event happens during these months."
   ]
  },
  {
   "cell_type": "code",
   "execution_count": 2,
   "metadata": {},
   "outputs": [],
   "source": [
    "files = ['data/nightly-{}{}.parq'.format(y, m)\n",
    "         for y in (2016, 2017, 2018) \n",
    "         for m in ('01', '02', '03')]"
   ]
  },
  {
   "cell_type": "code",
   "execution_count": 3,
   "metadata": {},
   "outputs": [
    {
     "data": {
      "text/plain": [
       "(40092, 8)"
      ]
     },
     "execution_count": 3,
     "metadata": {},
     "output_type": "execute_result"
    }
   ],
   "source": [
    "df = pd.concat([pd.read_parquet(fn) for fn in files], ignore_index=True)\n",
    "df.shape"
   ]
  },
  {
   "cell_type": "markdown",
   "metadata": {},
   "source": [
    "Fix the timezone locale"
   ]
  },
  {
   "cell_type": "code",
   "execution_count": 4,
   "metadata": {},
   "outputs": [],
   "source": [
    "df['bug_creation_time'] = df['bug_creation_time'].dt.tz_localize('UTC')"
   ]
  },
  {
   "cell_type": "markdown",
   "metadata": {},
   "source": [
    "For our \"time from changeset inception until changeset fix\" calculation we will take the time from when a changeset was created until the time that changeset was availalbe for download as a nightly build."
   ]
  },
  {
   "cell_type": "code",
   "execution_count": 5,
   "metadata": {},
   "outputs": [
    {
     "data": {
      "text/plain": [
       "Timedelta('-640 days +19:15:17')"
      ]
     },
     "execution_count": 5,
     "metadata": {},
     "output_type": "execute_result"
    }
   ],
   "source": [
    "df['duration'] = df['nightly_publish_time'] - df['bug_creation_time']\n",
    "df['duration'].min()"
   ]
  },
  {
   "cell_type": "markdown",
   "metadata": {},
   "source": [
    "Clean up bad negative timedeltas."
   ]
  },
  {
   "cell_type": "code",
   "execution_count": 6,
   "metadata": {},
   "outputs": [
    {
     "data": {
      "text/plain": [
       "Timedelta('0 days 02:04:33')"
      ]
     },
     "execution_count": 6,
     "metadata": {},
     "output_type": "execute_result"
    }
   ],
   "source": [
    "# Scrub negative bug creation times\n",
    "df = df.drop(df[df['duration'].dt.days < 0].index)\n",
    "df['duration'].min()"
   ]
  },
  {
   "cell_type": "code",
   "execution_count": 7,
   "metadata": {},
   "outputs": [],
   "source": [
    "grouped = df.groupby(df['nightly_publish_time'].dt.year)"
   ]
  },
  {
   "cell_type": "code",
   "execution_count": 8,
   "metadata": {},
   "outputs": [
    {
     "name": "stdout",
     "output_type": "stream",
     "text": [
      "Number of unique builds per year\n"
     ]
    },
    {
     "data": {
      "text/plain": [
       "nightly_publish_time\n",
       "2016     85\n",
       "2017     88\n",
       "2018    167\n",
       "Name: nightly_build_id, dtype: int64"
      ]
     },
     "execution_count": 8,
     "metadata": {},
     "output_type": "execute_result"
    }
   ],
   "source": [
    "print(\"Number of unique builds per year\")\n",
    "grouped['nightly_build_id'].nunique()"
   ]
  },
  {
   "cell_type": "code",
   "execution_count": 9,
   "metadata": {},
   "outputs": [
    {
     "data": {
      "text/html": [
       "<div>\n",
       "<style scoped>\n",
       "    .dataframe tbody tr th:only-of-type {\n",
       "        vertical-align: middle;\n",
       "    }\n",
       "\n",
       "    .dataframe tbody tr th {\n",
       "        vertical-align: top;\n",
       "    }\n",
       "\n",
       "    .dataframe thead th {\n",
       "        text-align: right;\n",
       "    }\n",
       "</style>\n",
       "<table border=\"1\" class=\"dataframe\">\n",
       "  <thead>\n",
       "    <tr style=\"text-align: right;\">\n",
       "      <th></th>\n",
       "      <th>count</th>\n",
       "      <th>mean</th>\n",
       "      <th>std</th>\n",
       "      <th>min</th>\n",
       "      <th>25%</th>\n",
       "      <th>50%</th>\n",
       "      <th>75%</th>\n",
       "      <th>max</th>\n",
       "    </tr>\n",
       "    <tr>\n",
       "      <th>nightly_publish_time</th>\n",
       "      <th></th>\n",
       "      <th></th>\n",
       "      <th></th>\n",
       "      <th></th>\n",
       "      <th></th>\n",
       "      <th></th>\n",
       "      <th></th>\n",
       "      <th></th>\n",
       "    </tr>\n",
       "  </thead>\n",
       "  <tbody>\n",
       "    <tr>\n",
       "      <th>2016</th>\n",
       "      <td>11793</td>\n",
       "      <td>269 days 02:33:50.001865</td>\n",
       "      <td>976 days 01:03:51.380716</td>\n",
       "      <td>0 days 06:39:46</td>\n",
       "      <td>4 days 08:44:29</td>\n",
       "      <td>14 days 10:48:00</td>\n",
       "      <td>77 days 12:36:22</td>\n",
       "      <td>6162 days 07:45:10</td>\n",
       "    </tr>\n",
       "    <tr>\n",
       "      <th>2017</th>\n",
       "      <td>16166</td>\n",
       "      <td>1320 days 23:30:53.659841</td>\n",
       "      <td>2470 days 11:53:52.703041</td>\n",
       "      <td>0 days 03:24:37</td>\n",
       "      <td>6 days 04:12:13.250000</td>\n",
       "      <td>27 days 03:24:11</td>\n",
       "      <td>405 days 22:59:37.500000</td>\n",
       "      <td>7067 days 22:14:58</td>\n",
       "    </tr>\n",
       "    <tr>\n",
       "      <th>2018</th>\n",
       "      <td>12132</td>\n",
       "      <td>374 days 05:54:18.406116</td>\n",
       "      <td>1306 days 18:03:09.246195</td>\n",
       "      <td>0 days 02:04:33</td>\n",
       "      <td>3 days 05:19:08</td>\n",
       "      <td>12 days 19:18:13</td>\n",
       "      <td>66 days 02:14:15</td>\n",
       "      <td>6694 days 13:57:22</td>\n",
       "    </tr>\n",
       "  </tbody>\n",
       "</table>\n",
       "</div>"
      ],
      "text/plain": [
       "                      count                       mean  \\\n",
       "nightly_publish_time                                     \n",
       "2016                  11793   269 days 02:33:50.001865   \n",
       "2017                  16166  1320 days 23:30:53.659841   \n",
       "2018                  12132   374 days 05:54:18.406116   \n",
       "\n",
       "                                            std              min  \\\n",
       "nightly_publish_time                                               \n",
       "2016                   976 days 01:03:51.380716  0 days 06:39:46   \n",
       "2017                  2470 days 11:53:52.703041  0 days 03:24:37   \n",
       "2018                  1306 days 18:03:09.246195  0 days 02:04:33   \n",
       "\n",
       "                                         25%               50%  \\\n",
       "nightly_publish_time                                             \n",
       "2016                         4 days 08:44:29  14 days 10:48:00   \n",
       "2017                  6 days 04:12:13.250000  27 days 03:24:11   \n",
       "2018                         3 days 05:19:08  12 days 19:18:13   \n",
       "\n",
       "                                           75%                 max  \n",
       "nightly_publish_time                                                \n",
       "2016                          77 days 12:36:22  6162 days 07:45:10  \n",
       "2017                  405 days 22:59:37.500000  7067 days 22:14:58  \n",
       "2018                          66 days 02:14:15  6694 days 13:57:22  "
      ]
     },
     "execution_count": 9,
     "metadata": {},
     "output_type": "execute_result"
    }
   ],
   "source": [
    "grouped['duration'].describe()"
   ]
  },
  {
   "cell_type": "code",
   "execution_count": 10,
   "metadata": {},
   "outputs": [
    {
     "data": {
      "image/png": "[encoded data removed]",
      "text/plain": [
       "<Figure size 432x288 with 1 Axes>"
      ]
     },
     "metadata": {
      "needs_background": "light"
     },
     "output_type": "display_data"
    }
   ],
   "source": [
    "for year, data in grouped['duration']:\n",
    "    ax = sns.kdeplot(data.dt.days, label=year)\n",
    "    ax.set(xlabel=\"days to close\")"
   ]
  },
  {
   "cell_type": "markdown",
   "metadata": {},
   "source": [
    "## Bugs filed within 90 days\n",
    "\n",
    "Focus on bugs filed within 90 days of the code landing that addresses them.  That range describes the majority of code landings."
   ]
  },
  {
   "cell_type": "code",
   "execution_count": 11,
   "metadata": {},
   "outputs": [],
   "source": [
    "last90 = df[df['duration'].dt.days <= 90]"
   ]
  },
  {
   "cell_type": "code",
   "execution_count": 12,
   "metadata": {},
   "outputs": [
    {
     "data": {
      "text/html": [
       "<div>\n",
       "<style scoped>\n",
       "    .dataframe tbody tr th:only-of-type {\n",
       "        vertical-align: middle;\n",
       "    }\n",
       "\n",
       "    .dataframe tbody tr th {\n",
       "        vertical-align: top;\n",
       "    }\n",
       "\n",
       "    .dataframe thead th {\n",
       "        text-align: right;\n",
       "    }\n",
       "</style>\n",
       "<table border=\"1\" class=\"dataframe\">\n",
       "  <thead>\n",
       "    <tr style=\"text-align: right;\">\n",
       "      <th></th>\n",
       "      <th>count</th>\n",
       "      <th>mean</th>\n",
       "      <th>std</th>\n",
       "      <th>min</th>\n",
       "      <th>25%</th>\n",
       "      <th>50%</th>\n",
       "      <th>75%</th>\n",
       "      <th>max</th>\n",
       "    </tr>\n",
       "    <tr>\n",
       "      <th>nightly_publish_time</th>\n",
       "      <th></th>\n",
       "      <th></th>\n",
       "      <th></th>\n",
       "      <th></th>\n",
       "      <th></th>\n",
       "      <th></th>\n",
       "      <th></th>\n",
       "      <th></th>\n",
       "    </tr>\n",
       "  </thead>\n",
       "  <tbody>\n",
       "    <tr>\n",
       "      <th>2016</th>\n",
       "      <td>9076</td>\n",
       "      <td>17 days 06:31:48.324041</td>\n",
       "      <td>20 days 12:33:31.817496</td>\n",
       "      <td>0 days 06:39:46</td>\n",
       "      <td>3 days 07:01:45.500000</td>\n",
       "      <td>8 days 01:58:01</td>\n",
       "      <td>22 days 14:51:47</td>\n",
       "      <td>90 days 22:51:20</td>\n",
       "    </tr>\n",
       "    <tr>\n",
       "      <th>2017</th>\n",
       "      <td>10530</td>\n",
       "      <td>18 days 16:53:33.519563</td>\n",
       "      <td>21 days 12:10:14.586857</td>\n",
       "      <td>0 days 03:24:37</td>\n",
       "      <td>3 days 12:13:50</td>\n",
       "      <td>8 days 18:10:35</td>\n",
       "      <td>25 days 16:42:08</td>\n",
       "      <td>90 days 23:30:48</td>\n",
       "    </tr>\n",
       "    <tr>\n",
       "      <th>2018</th>\n",
       "      <td>9541</td>\n",
       "      <td>16 days 10:11:46.821402</td>\n",
       "      <td>20 days 18:30:42.771489</td>\n",
       "      <td>0 days 02:04:33</td>\n",
       "      <td>2 days 05:43:22</td>\n",
       "      <td>6 days 19:57:29</td>\n",
       "      <td>22 days 12:06:12</td>\n",
       "      <td>90 days 23:59:09</td>\n",
       "    </tr>\n",
       "  </tbody>\n",
       "</table>\n",
       "</div>"
      ],
      "text/plain": [
       "                      count                     mean                      std  \\\n",
       "nightly_publish_time                                                            \n",
       "2016                   9076  17 days 06:31:48.324041  20 days 12:33:31.817496   \n",
       "2017                  10530  18 days 16:53:33.519563  21 days 12:10:14.586857   \n",
       "2018                   9541  16 days 10:11:46.821402  20 days 18:30:42.771489   \n",
       "\n",
       "                                  min                     25%  \\\n",
       "nightly_publish_time                                            \n",
       "2016                  0 days 06:39:46  3 days 07:01:45.500000   \n",
       "2017                  0 days 03:24:37         3 days 12:13:50   \n",
       "2018                  0 days 02:04:33         2 days 05:43:22   \n",
       "\n",
       "                                  50%               75%               max  \n",
       "nightly_publish_time                                                       \n",
       "2016                  8 days 01:58:01  22 days 14:51:47  90 days 22:51:20  \n",
       "2017                  8 days 18:10:35  25 days 16:42:08  90 days 23:30:48  \n",
       "2018                  6 days 19:57:29  22 days 12:06:12  90 days 23:59:09  "
      ]
     },
     "execution_count": 12,
     "metadata": {},
     "output_type": "execute_result"
    }
   ],
   "source": [
    "grouped = last90['duration'].groupby(last90['nightly_publish_time'].dt.year)\n",
    "grouped.describe()"
   ]
  },
  {
   "cell_type": "code",
   "execution_count": 13,
   "metadata": {},
   "outputs": [
    {
     "data": {
      "image/png": "[encoded data removed]",
      "text/plain": [
       "<Figure size 432x288 with 1 Axes>"
      ]
     },
     "metadata": {
      "needs_background": "light"
     },
     "output_type": "display_data"
    }
   ],
   "source": [
    "ax = sns.distplot(grouped.get_group(2018).dt.days, kde=False)\n",
    "ax.set(xlabel=\"days to close\", ylabel=\"bug count\");"
   ]
  },
  {
   "cell_type": "markdown",
   "metadata": {},
   "source": [
    "Let's see how this looks fit to a KDE plot."
   ]
  },
  {
   "cell_type": "code",
   "execution_count": 14,
   "metadata": {},
   "outputs": [
    {
     "data": {
      "image/png": "[encoded data removed]",
      "text/plain": [
       "<Figure size 432x288 with 1 Axes>"
      ]
     },
     "metadata": {
      "needs_background": "light"
     },
     "output_type": "display_data"
    }
   ],
   "source": [
    "ax = sns.distplot(grouped.get_group(2018).dt.days)\n",
    "ax.set(xlabel=\"days to close\", ylabel=\"bug count\");"
   ]
  },
  {
   "cell_type": "markdown",
   "metadata": {},
   "source": [
    "Now we can compare the result with other years."
   ]
  },
  {
   "cell_type": "code",
   "execution_count": 15,
   "metadata": {},
   "outputs": [
    {
     "data": {
      "image/png": "[encoded data removed]",
      "text/plain": [
       "<Figure size 432x288 with 1 Axes>"
      ]
     },
     "metadata": {
      "needs_background": "light"
     },
     "output_type": "display_data"
    }
   ],
   "source": [
    "for year, data in grouped:\n",
    "    ax = sns.kdeplot(data.dt.days, label=year)\n",
    "    ax.set(xlabel=\"days to close\")"
   ]
  },
  {
   "cell_type": "markdown",
   "metadata": {},
   "source": [
    "A cumulative distribution shows us the difference in bug fix times between years as \"percent of bug fix durations that fall below a given probability\"."
   ]
  },
  {
   "cell_type": "code",
   "execution_count": 16,
   "metadata": {},
   "outputs": [
    {
     "data": {
      "image/png": "[encoded data removed]",
      "text/plain": [
       "<Figure size 432x288 with 1 Axes>"
      ]
     },
     "metadata": {
      "needs_background": "light"
     },
     "output_type": "display_data"
    }
   ],
   "source": [
    "for year, data in grouped:\n",
    "    ax = sns.kdeplot(data.dt.days, label=year, cumulative=True)\n",
    "    ax.set(xlabel=\"days to close\")"
   ]
  },
  {
   "cell_type": "code",
   "execution_count": null,
   "metadata": {},
   "outputs": [],
   "source": []
  }
 ],
 "metadata": {
  "kernelspec": {
   "display_name": "Python 3",
   "language": "python",
   "name": "python3"
  },
  "language_info": {
   "codemirror_mode": {
    "name": "ipython",
    "version": 3
   },
   "file_extension": ".py",
   "mimetype": "text/x-python",
   "name": "python",
   "nbconvert_exporter": "python",
   "pygments_lexer": "ipython3",
   "version": "3.6.5"
  }
 },
 "nbformat": 4,
 "nbformat_minor": 2
}
