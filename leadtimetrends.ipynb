{
 "cells": [
  {
   "cell_type": "markdown",
   "metadata": {},
   "source": [
    "# Firefox engineering bug-to-nightly lead time trends"
   ]
  },
  {
   "cell_type": "code",
   "execution_count": 108,
   "metadata": {},
   "outputs": [],
   "source": [
    "import pandas as pd\n",
    "import seaborn as sns"
   ]
  },
  {
   "cell_type": "code",
   "execution_count": 109,
   "metadata": {},
   "outputs": [],
   "source": [
    "files = ['data/nightly-{}{}.parq'.format(y, m)\n",
    "         for y in (2016, 2017, 2018) \n",
    "         for m in ('01', '02', '03')]"
   ]
  },
  {
   "cell_type": "code",
   "execution_count": 110,
   "metadata": {},
   "outputs": [
    {
     "data": {
      "text/plain": [
       "(40092, 8)"
      ]
     },
     "execution_count": 110,
     "metadata": {},
     "output_type": "execute_result"
    }
   ],
   "source": [
    "df = pd.concat([pd.read_parquet(fn) for fn in files], ignore_index=True)\n",
    "df.shape"
   ]
  },
  {
   "cell_type": "code",
   "execution_count": 111,
   "metadata": {},
   "outputs": [
    {
     "data": {
      "text/plain": [
       "changeset                            object\n",
       "changeset_desc                       object\n",
       "changeset_pushid                     object\n",
       "changeset_pushtime           datetime64[ns]\n",
       "bug                                 float64\n",
       "bug_creation_time            datetime64[ns]\n",
       "nightly_build_id                     object\n",
       "nightly_publish_time    datetime64[ns, UTC]\n",
       "dtype: object"
      ]
     },
     "execution_count": 111,
     "metadata": {},
     "output_type": "execute_result"
    }
   ],
   "source": [
    "df.dtypes"
   ]
  },
  {
   "cell_type": "code",
   "execution_count": 112,
   "metadata": {},
   "outputs": [],
   "source": [
    "df['bug_creation_time'] = df['bug_creation_time'].dt.tz_localize('UTC')"
   ]
  },
  {
   "cell_type": "code",
   "execution_count": 113,
   "metadata": {},
   "outputs": [
    {
     "data": {
      "text/plain": [
       "Timedelta('-640 days +19:15:17')"
      ]
     },
     "execution_count": 113,
     "metadata": {},
     "output_type": "execute_result"
    }
   ],
   "source": [
    "df['duration'] = df['nightly_publish_time'] - df['bug_creation_time']\n",
    "df['duration'].min()"
   ]
  },
  {
   "cell_type": "code",
   "execution_count": 114,
   "metadata": {},
   "outputs": [
    {
     "data": {
      "text/plain": [
       "Timedelta('0 days 02:04:33')"
      ]
     },
     "execution_count": 114,
     "metadata": {},
     "output_type": "execute_result"
    }
   ],
   "source": [
    "# Scrub negative bug creation times\n",
    "df = df.drop(df[df['duration'].dt.days < 0].index)\n",
    "df['duration'].min()"
   ]
  },
  {
   "cell_type": "code",
   "execution_count": 115,
   "metadata": {},
   "outputs": [],
   "source": [
    "grouped = df.groupby(df['nightly_publish_time'].dt.year)"
   ]
  },
  {
   "cell_type": "code",
   "execution_count": 116,
   "metadata": {},
   "outputs": [
    {
     "name": "stdout",
     "output_type": "stream",
     "text": [
      "Number of unique builds per year\n"
     ]
    },
    {
     "data": {
      "text/plain": [
       "nightly_publish_time\n",
       "2016     85\n",
       "2017     88\n",
       "2018    167\n",
       "Name: nightly_build_id, dtype: int64"
      ]
     },
     "execution_count": 116,
     "metadata": {},
     "output_type": "execute_result"
    }
   ],
   "source": [
    "print(\"Number of unique builds per year\")\n",
    "grouped['nightly_build_id'].nunique()"
   ]
  },
  {
   "cell_type": "code",
   "execution_count": 117,
   "metadata": {},
   "outputs": [
    {
     "data": {
      "text/html": [
       "<div>\n",
       "<style scoped>\n",
       "    .dataframe tbody tr th:only-of-type {\n",
       "        vertical-align: middle;\n",
       "    }\n",
       "\n",
       "    .dataframe tbody tr th {\n",
       "        vertical-align: top;\n",
       "    }\n",
       "\n",
       "    .dataframe thead th {\n",
       "        text-align: right;\n",
       "    }\n",
       "</style>\n",
       "<table border=\"1\" class=\"dataframe\">\n",
       "  <thead>\n",
       "    <tr style=\"text-align: right;\">\n",
       "      <th></th>\n",
       "      <th>count</th>\n",
       "      <th>mean</th>\n",
       "      <th>std</th>\n",
       "      <th>min</th>\n",
       "      <th>25%</th>\n",
       "      <th>50%</th>\n",
       "      <th>75%</th>\n",
       "      <th>max</th>\n",
       "    </tr>\n",
       "    <tr>\n",
       "      <th>nightly_publish_time</th>\n",
       "      <th></th>\n",
       "      <th></th>\n",
       "      <th></th>\n",
       "      <th></th>\n",
       "      <th></th>\n",
       "      <th></th>\n",
       "      <th></th>\n",
       "      <th></th>\n",
       "    </tr>\n",
       "  </thead>\n",
       "  <tbody>\n",
       "    <tr>\n",
       "      <th>2016</th>\n",
       "      <td>11793</td>\n",
       "      <td>269 days 02:33:50.001865</td>\n",
       "      <td>976 days 01:03:51.380716</td>\n",
       "      <td>0 days 06:39:46</td>\n",
       "      <td>4 days 08:44:29</td>\n",
       "      <td>14 days 10:48:00</td>\n",
       "      <td>77 days 12:36:22</td>\n",
       "      <td>6162 days 07:45:10</td>\n",
       "    </tr>\n",
       "    <tr>\n",
       "      <th>2017</th>\n",
       "      <td>16166</td>\n",
       "      <td>1320 days 23:30:53.659841</td>\n",
       "      <td>2470 days 11:53:52.703041</td>\n",
       "      <td>0 days 03:24:37</td>\n",
       "      <td>6 days 04:12:13.250000</td>\n",
       "      <td>27 days 03:24:11</td>\n",
       "      <td>405 days 22:59:37.500000</td>\n",
       "      <td>7067 days 22:14:58</td>\n",
       "    </tr>\n",
       "    <tr>\n",
       "      <th>2018</th>\n",
       "      <td>12132</td>\n",
       "      <td>374 days 05:54:18.406116</td>\n",
       "      <td>1306 days 18:03:09.246195</td>\n",
       "      <td>0 days 02:04:33</td>\n",
       "      <td>3 days 05:19:08</td>\n",
       "      <td>12 days 19:18:13</td>\n",
       "      <td>66 days 02:14:15</td>\n",
       "      <td>6694 days 13:57:22</td>\n",
       "    </tr>\n",
       "  </tbody>\n",
       "</table>\n",
       "</div>"
      ],
      "text/plain": [
       "                      count                       mean  \\\n",
       "nightly_publish_time                                     \n",
       "2016                  11793   269 days 02:33:50.001865   \n",
       "2017                  16166  1320 days 23:30:53.659841   \n",
       "2018                  12132   374 days 05:54:18.406116   \n",
       "\n",
       "                                            std              min  \\\n",
       "nightly_publish_time                                               \n",
       "2016                   976 days 01:03:51.380716  0 days 06:39:46   \n",
       "2017                  2470 days 11:53:52.703041  0 days 03:24:37   \n",
       "2018                  1306 days 18:03:09.246195  0 days 02:04:33   \n",
       "\n",
       "                                         25%               50%  \\\n",
       "nightly_publish_time                                             \n",
       "2016                         4 days 08:44:29  14 days 10:48:00   \n",
       "2017                  6 days 04:12:13.250000  27 days 03:24:11   \n",
       "2018                         3 days 05:19:08  12 days 19:18:13   \n",
       "\n",
       "                                           75%                 max  \n",
       "nightly_publish_time                                                \n",
       "2016                          77 days 12:36:22  6162 days 07:45:10  \n",
       "2017                  405 days 22:59:37.500000  7067 days 22:14:58  \n",
       "2018                          66 days 02:14:15  6694 days 13:57:22  "
      ]
     },
     "execution_count": 117,
     "metadata": {},
     "output_type": "execute_result"
    }
   ],
   "source": [
    "grouped['duration'].describe()"
   ]
  },
  {
   "cell_type": "code",
   "execution_count": 118,
   "metadata": {},
   "outputs": [
    {
     "data": {
      "image/png": "[encoded data removed]",
      "text/plain": [
       "<Figure size 432x288 with 1 Axes>"
      ]
     },
     "metadata": {
      "needs_background": "light"
     },
     "output_type": "display_data"
    }
   ],
   "source": [
    "for year, data in grouped['duration']:\n",
    "    sns.kdeplot(data.dt.days, label=year)"
   ]
  },
  {
   "cell_type": "markdown",
   "metadata": {},
   "source": [
    "## Bugs filed within 90 days\n",
    "\n",
    "Focus on bugs filed within 90 days of the code landing that addresses them.  That range describes the majority of code landings."
   ]
  },
  {
   "cell_type": "code",
   "execution_count": 119,
   "metadata": {},
   "outputs": [],
   "source": [
    "last90 = df[df['duration'].dt.days <= 90]"
   ]
  },
  {
   "cell_type": "code",
   "execution_count": 120,
   "metadata": {},
   "outputs": [],
   "source": [
    "grouped = last90['duration'].groupby(last90['nightly_publish_time'].dt.year)"
   ]
  },
  {
   "cell_type": "code",
   "execution_count": 121,
   "metadata": {},
   "outputs": [
    {
     "data": {
      "image/png": "[encoded data removed]",
      "text/plain": [
       "<Figure size 432x288 with 1 Axes>"
      ]
     },
     "metadata": {
      "needs_background": "light"
     },
     "output_type": "display_data"
    }
   ],
   "source": [
    "sns.distplot(grouped.get_group(2018).dt.days, kde=False);"
   ]
  },
  {
   "cell_type": "code",
   "execution_count": 122,
   "metadata": {},
   "outputs": [
    {
     "data": {
      "image/png": "[encoded data removed]",
      "text/plain": [
       "<Figure size 432x288 with 1 Axes>"
      ]
     },
     "metadata": {
      "needs_background": "light"
     },
     "output_type": "display_data"
    }
   ],
   "source": [
    "for year, data in grouped:\n",
    "    sns.kdeplot(data.dt.days, label=year)"
   ]
  },
  {
   "cell_type": "code",
   "execution_count": 123,
   "metadata": {},
   "outputs": [
    {
     "data": {
      "image/png": "[encoded data removed]",
      "text/plain": [
       "<Figure size 432x288 with 1 Axes>"
      ]
     },
     "metadata": {
      "needs_background": "light"
     },
     "output_type": "display_data"
    }
   ],
   "source": [
    "for year, data in grouped:\n",
    "    sns.kdeplot(data.dt.days, label=year, cumulative=True)"
   ]
  },
  {
   "cell_type": "code",
   "execution_count": null,
   "metadata": {},
   "outputs": [],
   "source": []
  }
 ],
 "metadata": {
  "kernelspec": {
   "display_name": "Python 3",
   "language": "python",
   "name": "python3"
  },
  "language_info": {
   "codemirror_mode": {
    "name": "ipython",
    "version": 3
   },
   "file_extension": ".py",
   "mimetype": "text/x-python",
   "name": "python",
   "nbconvert_exporter": "python",
   "pygments_lexer": "ipython3",
   "version": "3.6.5"
  }
 },
 "nbformat": 4,
 "nbformat_minor": 2
}
