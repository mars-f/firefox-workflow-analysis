{
 "cells": [
  {
   "cell_type": "markdown",
   "metadata": {},
   "source": [
    "# Firefox Workflow, Comparison for October, Last 8 Years"
   ]
  },
  {
   "cell_type": "code",
   "execution_count": 252,
   "metadata": {},
   "outputs": [],
   "source": [
    "import pandas as pd\n",
    "import seaborn as sns"
   ]
  },
  {
   "cell_type": "code",
   "execution_count": 253,
   "metadata": {},
   "outputs": [],
   "source": [
    "files = ['data/nightly-{}10.parq'.format(y) for y in range(2010, 2019)]"
   ]
  },
  {
   "cell_type": "code",
   "execution_count": 254,
   "metadata": {},
   "outputs": [
    {
     "data": {
      "text/plain": [
       "(32007, 8)"
      ]
     },
     "execution_count": 254,
     "metadata": {},
     "output_type": "execute_result"
    }
   ],
   "source": [
    "df = pd.concat([pd.read_parquet(fn) for fn in files], ignore_index=True)\n",
    "df.shape"
   ]
  },
  {
   "cell_type": "code",
   "execution_count": 255,
   "metadata": {},
   "outputs": [
    {
     "data": {
      "text/html": [
       "<div>\n",
       "<style scoped>\n",
       "    .dataframe tbody tr th:only-of-type {\n",
       "        vertical-align: middle;\n",
       "    }\n",
       "\n",
       "    .dataframe tbody tr th {\n",
       "        vertical-align: top;\n",
       "    }\n",
       "\n",
       "    .dataframe thead th {\n",
       "        text-align: right;\n",
       "    }\n",
       "</style>\n",
       "<table border=\"1\" class=\"dataframe\">\n",
       "  <thead>\n",
       "    <tr style=\"text-align: right;\">\n",
       "      <th></th>\n",
       "      <th>changeset</th>\n",
       "      <th>changeset_desc</th>\n",
       "      <th>changeset_pushid</th>\n",
       "      <th>changeset_pushtime</th>\n",
       "      <th>bug</th>\n",
       "      <th>bug_creation_time</th>\n",
       "      <th>nightly_build_id</th>\n",
       "      <th>nightly_publish_time</th>\n",
       "    </tr>\n",
       "  </thead>\n",
       "  <tbody>\n",
       "    <tr>\n",
       "      <th>0</th>\n",
       "      <td>fdf8b40547652aff7a5162f526935f7a935b7dd9</td>\n",
       "      <td>Bug 608416: Stop exceptions from cleanup funct...</td>\n",
       "      <td>16660</td>\n",
       "      <td>2010-10-30 18:59:52</td>\n",
       "      <td>608416.0</td>\n",
       "      <td>2010-10-29 22:17:37</td>\n",
       "      <td>20101031030736</td>\n",
       "      <td>2015-10-10 02:36:19+00:00</td>\n",
       "    </tr>\n",
       "    <tr>\n",
       "      <th>1</th>\n",
       "      <td>97ea3fe9232ad06d4e5e2282f8f8f932f8975235</td>\n",
       "      <td>bug 608422 - cookies.sqlite-wal takes too much...</td>\n",
       "      <td>16661</td>\n",
       "      <td>2010-10-31 02:35:13</td>\n",
       "      <td>608422.0</td>\n",
       "      <td>2010-10-29 22:41:34</td>\n",
       "      <td>20101031030736</td>\n",
       "      <td>2015-10-10 02:36:19+00:00</td>\n",
       "    </tr>\n",
       "    <tr>\n",
       "      <th>2</th>\n",
       "      <td>de32b6e1ca006bb985a4f4afd80f2c46548af68c</td>\n",
       "      <td>Fix for bug 606705 (Browser crash when using m...</td>\n",
       "      <td>16662</td>\n",
       "      <td>2010-10-31 04:37:53</td>\n",
       "      <td>606705.0</td>\n",
       "      <td>2010-10-23 20:19:55</td>\n",
       "      <td>20101031030736</td>\n",
       "      <td>2015-10-10 02:36:19+00:00</td>\n",
       "    </tr>\n",
       "    <tr>\n",
       "      <th>3</th>\n",
       "      <td>05e775f368f88d34e30fa6fdfba2ef378f75e944</td>\n",
       "      <td>Disallow sending JS functions to a different t...</td>\n",
       "      <td>16663</td>\n",
       "      <td>2010-10-31 05:12:52</td>\n",
       "      <td>608142.0</td>\n",
       "      <td>2010-10-28 23:20:54</td>\n",
       "      <td>20101031030736</td>\n",
       "      <td>2015-10-10 02:36:19+00:00</td>\n",
       "    </tr>\n",
       "    <tr>\n",
       "      <th>4</th>\n",
       "      <td>67dd5fbeebaaa27522897a4c10cf81b96a05d562</td>\n",
       "      <td>Follow-up for bug 608142: disallow sending bet...</td>\n",
       "      <td>16663</td>\n",
       "      <td>2010-10-31 05:12:52</td>\n",
       "      <td>608142.0</td>\n",
       "      <td>2010-10-28 23:20:54</td>\n",
       "      <td>20101031030736</td>\n",
       "      <td>2015-10-10 02:36:19+00:00</td>\n",
       "    </tr>\n",
       "  </tbody>\n",
       "</table>\n",
       "</div>"
      ],
      "text/plain": [
       "                                  changeset  \\\n",
       "0  fdf8b40547652aff7a5162f526935f7a935b7dd9   \n",
       "1  97ea3fe9232ad06d4e5e2282f8f8f932f8975235   \n",
       "2  de32b6e1ca006bb985a4f4afd80f2c46548af68c   \n",
       "3  05e775f368f88d34e30fa6fdfba2ef378f75e944   \n",
       "4  67dd5fbeebaaa27522897a4c10cf81b96a05d562   \n",
       "\n",
       "                                      changeset_desc changeset_pushid  \\\n",
       "0  Bug 608416: Stop exceptions from cleanup funct...            16660   \n",
       "1  bug 608422 - cookies.sqlite-wal takes too much...            16661   \n",
       "2  Fix for bug 606705 (Browser crash when using m...            16662   \n",
       "3  Disallow sending JS functions to a different t...            16663   \n",
       "4  Follow-up for bug 608142: disallow sending bet...            16663   \n",
       "\n",
       "   changeset_pushtime       bug   bug_creation_time nightly_build_id  \\\n",
       "0 2010-10-30 18:59:52  608416.0 2010-10-29 22:17:37   20101031030736   \n",
       "1 2010-10-31 02:35:13  608422.0 2010-10-29 22:41:34   20101031030736   \n",
       "2 2010-10-31 04:37:53  606705.0 2010-10-23 20:19:55   20101031030736   \n",
       "3 2010-10-31 05:12:52  608142.0 2010-10-28 23:20:54   20101031030736   \n",
       "4 2010-10-31 05:12:52  608142.0 2010-10-28 23:20:54   20101031030736   \n",
       "\n",
       "       nightly_publish_time  \n",
       "0 2015-10-10 02:36:19+00:00  \n",
       "1 2015-10-10 02:36:19+00:00  \n",
       "2 2015-10-10 02:36:19+00:00  \n",
       "3 2015-10-10 02:36:19+00:00  \n",
       "4 2015-10-10 02:36:19+00:00  "
      ]
     },
     "execution_count": 255,
     "metadata": {},
     "output_type": "execute_result"
    }
   ],
   "source": [
    "df.head()"
   ]
  },
  {
   "cell_type": "markdown",
   "metadata": {},
   "source": [
    "*Lead Time* is the total time a work item is in process, including the time up-front when we are waiting for work to start.\n",
    "\n",
    "We will assume that the bug creation time is when the work was queued but not started (or started very soon after)."
   ]
  },
  {
   "cell_type": "code",
   "execution_count": 256,
   "metadata": {},
   "outputs": [],
   "source": [
    "df['bug_creation_time'] = df['bug_creation_time'].dt.tz_localize('UTC')"
   ]
  },
  {
   "cell_type": "code",
   "execution_count": 257,
   "metadata": {},
   "outputs": [],
   "source": [
    "df['year'] = df['nightly_publish_time'].dt.year"
   ]
  },
  {
   "cell_type": "code",
   "execution_count": 258,
   "metadata": {},
   "outputs": [
    {
     "data": {
      "text/plain": [
       "year\n",
       "2015    19009\n",
       "2016     3839\n",
       "2017     4792\n",
       "2018     4367\n",
       "dtype: int64"
      ]
     },
     "execution_count": 258,
     "metadata": {},
     "output_type": "execute_result"
    }
   ],
   "source": [
    "df.groupby('year').size()"
   ]
  },
  {
   "cell_type": "markdown",
   "metadata": {},
   "source": [
    "Looks like 2013 and 2014 nightly publishing times are messed up and polluting the 2015 data!"
   ]
  },
  {
   "cell_type": "code",
   "execution_count": 259,
   "metadata": {},
   "outputs": [
    {
     "data": {
      "text/plain": [
       "(13245, 9)"
      ]
     },
     "execution_count": 259,
     "metadata": {},
     "output_type": "execute_result"
    }
   ],
   "source": [
    "oops = df[(df['nightly_publish_time'].dt.year == 2015) & (df['changeset_pushtime'].dt.year <= 2014)]\n",
    "oops.shape"
   ]
  },
  {
   "cell_type": "code",
   "execution_count": 260,
   "metadata": {},
   "outputs": [
    {
     "data": {
      "text/html": [
       "<div>\n",
       "<style scoped>\n",
       "    .dataframe tbody tr th:only-of-type {\n",
       "        vertical-align: middle;\n",
       "    }\n",
       "\n",
       "    .dataframe tbody tr th {\n",
       "        vertical-align: top;\n",
       "    }\n",
       "\n",
       "    .dataframe thead th {\n",
       "        text-align: right;\n",
       "    }\n",
       "</style>\n",
       "<table border=\"1\" class=\"dataframe\">\n",
       "  <thead>\n",
       "    <tr style=\"text-align: right;\">\n",
       "      <th></th>\n",
       "      <th>changeset</th>\n",
       "      <th>changeset_desc</th>\n",
       "      <th>changeset_pushid</th>\n",
       "      <th>changeset_pushtime</th>\n",
       "      <th>bug</th>\n",
       "      <th>bug_creation_time</th>\n",
       "      <th>nightly_build_id</th>\n",
       "      <th>nightly_publish_time</th>\n",
       "      <th>year</th>\n",
       "    </tr>\n",
       "  </thead>\n",
       "  <tbody>\n",
       "    <tr>\n",
       "      <th>0</th>\n",
       "      <td>fdf8b40547652aff7a5162f526935f7a935b7dd9</td>\n",
       "      <td>Bug 608416: Stop exceptions from cleanup funct...</td>\n",
       "      <td>16660</td>\n",
       "      <td>2010-10-30 18:59:52</td>\n",
       "      <td>608416.0</td>\n",
       "      <td>2010-10-29 22:17:37+00:00</td>\n",
       "      <td>20101031030736</td>\n",
       "      <td>2015-10-10 02:36:19+00:00</td>\n",
       "      <td>2015</td>\n",
       "    </tr>\n",
       "    <tr>\n",
       "      <th>1</th>\n",
       "      <td>97ea3fe9232ad06d4e5e2282f8f8f932f8975235</td>\n",
       "      <td>bug 608422 - cookies.sqlite-wal takes too much...</td>\n",
       "      <td>16661</td>\n",
       "      <td>2010-10-31 02:35:13</td>\n",
       "      <td>608422.0</td>\n",
       "      <td>2010-10-29 22:41:34+00:00</td>\n",
       "      <td>20101031030736</td>\n",
       "      <td>2015-10-10 02:36:19+00:00</td>\n",
       "      <td>2015</td>\n",
       "    </tr>\n",
       "    <tr>\n",
       "      <th>2</th>\n",
       "      <td>de32b6e1ca006bb985a4f4afd80f2c46548af68c</td>\n",
       "      <td>Fix for bug 606705 (Browser crash when using m...</td>\n",
       "      <td>16662</td>\n",
       "      <td>2010-10-31 04:37:53</td>\n",
       "      <td>606705.0</td>\n",
       "      <td>2010-10-23 20:19:55+00:00</td>\n",
       "      <td>20101031030736</td>\n",
       "      <td>2015-10-10 02:36:19+00:00</td>\n",
       "      <td>2015</td>\n",
       "    </tr>\n",
       "    <tr>\n",
       "      <th>3</th>\n",
       "      <td>05e775f368f88d34e30fa6fdfba2ef378f75e944</td>\n",
       "      <td>Disallow sending JS functions to a different t...</td>\n",
       "      <td>16663</td>\n",
       "      <td>2010-10-31 05:12:52</td>\n",
       "      <td>608142.0</td>\n",
       "      <td>2010-10-28 23:20:54+00:00</td>\n",
       "      <td>20101031030736</td>\n",
       "      <td>2015-10-10 02:36:19+00:00</td>\n",
       "      <td>2015</td>\n",
       "    </tr>\n",
       "    <tr>\n",
       "      <th>4</th>\n",
       "      <td>67dd5fbeebaaa27522897a4c10cf81b96a05d562</td>\n",
       "      <td>Follow-up for bug 608142: disallow sending bet...</td>\n",
       "      <td>16663</td>\n",
       "      <td>2010-10-31 05:12:52</td>\n",
       "      <td>608142.0</td>\n",
       "      <td>2010-10-28 23:20:54+00:00</td>\n",
       "      <td>20101031030736</td>\n",
       "      <td>2015-10-10 02:36:19+00:00</td>\n",
       "      <td>2015</td>\n",
       "    </tr>\n",
       "  </tbody>\n",
       "</table>\n",
       "</div>"
      ],
      "text/plain": [
       "                                  changeset  \\\n",
       "0  fdf8b40547652aff7a5162f526935f7a935b7dd9   \n",
       "1  97ea3fe9232ad06d4e5e2282f8f8f932f8975235   \n",
       "2  de32b6e1ca006bb985a4f4afd80f2c46548af68c   \n",
       "3  05e775f368f88d34e30fa6fdfba2ef378f75e944   \n",
       "4  67dd5fbeebaaa27522897a4c10cf81b96a05d562   \n",
       "\n",
       "                                      changeset_desc changeset_pushid  \\\n",
       "0  Bug 608416: Stop exceptions from cleanup funct...            16660   \n",
       "1  bug 608422 - cookies.sqlite-wal takes too much...            16661   \n",
       "2  Fix for bug 606705 (Browser crash when using m...            16662   \n",
       "3  Disallow sending JS functions to a different t...            16663   \n",
       "4  Follow-up for bug 608142: disallow sending bet...            16663   \n",
       "\n",
       "   changeset_pushtime       bug         bug_creation_time nightly_build_id  \\\n",
       "0 2010-10-30 18:59:52  608416.0 2010-10-29 22:17:37+00:00   20101031030736   \n",
       "1 2010-10-31 02:35:13  608422.0 2010-10-29 22:41:34+00:00   20101031030736   \n",
       "2 2010-10-31 04:37:53  606705.0 2010-10-23 20:19:55+00:00   20101031030736   \n",
       "3 2010-10-31 05:12:52  608142.0 2010-10-28 23:20:54+00:00   20101031030736   \n",
       "4 2010-10-31 05:12:52  608142.0 2010-10-28 23:20:54+00:00   20101031030736   \n",
       "\n",
       "       nightly_publish_time  year  \n",
       "0 2015-10-10 02:36:19+00:00  2015  \n",
       "1 2015-10-10 02:36:19+00:00  2015  \n",
       "2 2015-10-10 02:36:19+00:00  2015  \n",
       "3 2015-10-10 02:36:19+00:00  2015  \n",
       "4 2015-10-10 02:36:19+00:00  2015  "
      ]
     },
     "execution_count": 260,
     "metadata": {},
     "output_type": "execute_result"
    }
   ],
   "source": [
    "oops.head()"
   ]
  },
  {
   "cell_type": "markdown",
   "metadata": {},
   "source": [
    "We can fill in the busted data by inferring the publishing time from the build time and mean build time from other years."
   ]
  },
  {
   "cell_type": "code",
   "execution_count": 261,
   "metadata": {},
   "outputs": [],
   "source": [
    "df['build_time'] = pd.to_datetime(df['nightly_build_id'], infer_datetime_format=True, utc=True)"
   ]
  },
  {
   "cell_type": "code",
   "execution_count": 262,
   "metadata": {},
   "outputs": [],
   "source": [
    "df['build_publish_duration'] = df['nightly_publish_time'] - df['build_time']"
   ]
  },
  {
   "cell_type": "code",
   "execution_count": 263,
   "metadata": {},
   "outputs": [],
   "source": [
    "pubstep = df.loc[:, ['year', 'build_publish_duration']]"
   ]
  },
  {
   "cell_type": "code",
   "execution_count": 264,
   "metadata": {},
   "outputs": [],
   "source": [
    "pubstep['build_days'] = pubstep['build_publish_duration'].dt.days"
   ]
  },
  {
   "cell_type": "code",
   "execution_count": 265,
   "metadata": {},
   "outputs": [
    {
     "data": {
      "text/html": [
       "<div>\n",
       "<style scoped>\n",
       "    .dataframe tbody tr th:only-of-type {\n",
       "        vertical-align: middle;\n",
       "    }\n",
       "\n",
       "    .dataframe tbody tr th {\n",
       "        vertical-align: top;\n",
       "    }\n",
       "\n",
       "    .dataframe thead th {\n",
       "        text-align: right;\n",
       "    }\n",
       "</style>\n",
       "<table border=\"1\" class=\"dataframe\">\n",
       "  <thead>\n",
       "    <tr style=\"text-align: right;\">\n",
       "      <th></th>\n",
       "      <th>build_days</th>\n",
       "    </tr>\n",
       "    <tr>\n",
       "      <th>year</th>\n",
       "      <th></th>\n",
       "    </tr>\n",
       "  </thead>\n",
       "  <tbody>\n",
       "    <tr>\n",
       "      <th>2016</th>\n",
       "      <td>0.040636</td>\n",
       "    </tr>\n",
       "    <tr>\n",
       "      <th>2017</th>\n",
       "      <td>0.000000</td>\n",
       "    </tr>\n",
       "    <tr>\n",
       "      <th>2018</th>\n",
       "      <td>0.000000</td>\n",
       "    </tr>\n",
       "  </tbody>\n",
       "</table>\n",
       "</div>"
      ],
      "text/plain": [
       "      build_days\n",
       "year            \n",
       "2016    0.040636\n",
       "2017    0.000000\n",
       "2018    0.000000"
      ]
     },
     "execution_count": 265,
     "metadata": {},
     "output_type": "execute_result"
    }
   ],
   "source": [
    "pubstep[pubstep['year'] > 2015].groupby('year').mean()"
   ]
  },
  {
   "cell_type": "markdown",
   "metadata": {},
   "source": [
    "Since the number of days build times contribute to the total end-to-end time appears insignificant we can just ignore it and \"fix\" the nightly publish time by setting it to the build time + 0.05 days."
   ]
  },
  {
   "cell_type": "code",
   "execution_count": 266,
   "metadata": {},
   "outputs": [],
   "source": [
    "bogus_years = df[(df['build_time'].dt.year < 2015) & ((df['nightly_publish_time'] - df['build_time']).dt.days > 30)].copy()"
   ]
  },
  {
   "cell_type": "code",
   "execution_count": 267,
   "metadata": {},
   "outputs": [
    {
     "data": {
      "text/plain": [
       "count                         13245\n",
       "unique                          157\n",
       "top       2015-10-16 16:22:44+00:00\n",
       "freq                            387\n",
       "first     2015-10-10 02:26:31+00:00\n",
       "last      2015-10-20 09:29:34+00:00\n",
       "Name: nightly_publish_time, dtype: object"
      ]
     },
     "execution_count": 267,
     "metadata": {},
     "output_type": "execute_result"
    }
   ],
   "source": [
    "bogus_years['nightly_publish_time'].describe()"
   ]
  },
  {
   "cell_type": "code",
   "execution_count": 268,
   "metadata": {},
   "outputs": [],
   "source": [
    "bogus_years['nightly_publish_time'] = bogus_years['build_time'] + pd.Timedelta('0.05 day')"
   ]
  },
  {
   "cell_type": "code",
   "execution_count": 269,
   "metadata": {},
   "outputs": [
    {
     "data": {
      "text/plain": [
       "count                         13245\n",
       "unique                          157\n",
       "top       2014-10-21 04:14:08+00:00\n",
       "freq                            387\n",
       "first     2010-10-02 04:17:50+00:00\n",
       "last      2014-10-31 07:30:04+00:00\n",
       "Name: nightly_publish_time, dtype: object"
      ]
     },
     "execution_count": 269,
     "metadata": {},
     "output_type": "execute_result"
    }
   ],
   "source": [
    "bogus_years['nightly_publish_time'].describe()"
   ]
  },
  {
   "cell_type": "code",
   "execution_count": 270,
   "metadata": {},
   "outputs": [],
   "source": [
    "df.update(bogus_years)"
   ]
  },
  {
   "cell_type": "code",
   "execution_count": 271,
   "metadata": {},
   "outputs": [],
   "source": [
    "df['year'] = df['nightly_publish_time'].dt.year"
   ]
  },
  {
   "cell_type": "code",
   "execution_count": 272,
   "metadata": {},
   "outputs": [
    {
     "data": {
      "text/plain": [
       "year\n",
       "2010    1659\n",
       "2011    1367\n",
       "2012    2831\n",
       "2013    3043\n",
       "2014    4345\n",
       "2015    5764\n",
       "2016    3839\n",
       "2017    4792\n",
       "2018    4367\n",
       "dtype: int64"
      ]
     },
     "execution_count": 272,
     "metadata": {},
     "output_type": "execute_result"
    }
   ],
   "source": [
    "df.groupby('year').size()"
   ]
  },
  {
   "cell_type": "markdown",
   "metadata": {},
   "source": [
    "That looks better.  Now we can calculate the end-to-end lead time for each commit."
   ]
  },
  {
   "cell_type": "code",
   "execution_count": 273,
   "metadata": {},
   "outputs": [],
   "source": [
    "df['lead_time'] = df['nightly_publish_time'] - df['bug_creation_time']"
   ]
  },
  {
   "cell_type": "code",
   "execution_count": 274,
   "metadata": {},
   "outputs": [],
   "source": [
    "df['lead_seconds'] = df['lead_time'].dt.total_seconds()"
   ]
  },
  {
   "cell_type": "code",
   "execution_count": 275,
   "metadata": {},
   "outputs": [],
   "source": [
    "df['lead_days'] = df['lead_time'].dt.days"
   ]
  },
  {
   "cell_type": "code",
   "execution_count": 276,
   "metadata": {},
   "outputs": [
    {
     "data": {
      "text/plain": [
       "count                        32007\n",
       "mean      376 days 18:17:06.228200\n",
       "std      1221 days 07:39:27.600251\n",
       "min            -878 days +03:14:35\n",
       "25%         5 days 04:09:05.500000\n",
       "50%               18 days 09:02:34\n",
       "75%               85 days 22:09:15\n",
       "max             6965 days 08:27:35\n",
       "Name: lead_time, dtype: object"
      ]
     },
     "execution_count": 276,
     "metadata": {},
     "output_type": "execute_result"
    }
   ],
   "source": [
    "df['lead_time'].describe()"
   ]
  },
  {
   "cell_type": "markdown",
   "metadata": {},
   "source": [
    "We need to drop any records where the bug was filed after the code landed."
   ]
  },
  {
   "cell_type": "code",
   "execution_count": 277,
   "metadata": {},
   "outputs": [],
   "source": [
    "late_bugs = df[df['lead_time'].dt.days < 0]"
   ]
  },
  {
   "cell_type": "code",
   "execution_count": 278,
   "metadata": {},
   "outputs": [],
   "source": [
    "df = df.drop(late_bugs.index)"
   ]
  },
  {
   "cell_type": "code",
   "execution_count": 279,
   "metadata": {},
   "outputs": [
    {
     "data": {
      "text/plain": [
       "count                        31999\n",
       "mean      376 days 21:49:54.993343\n",
       "std      1221 days 10:15:30.214477\n",
       "min                0 days 01:00:24\n",
       "25%                5 days 04:22:34\n",
       "50%               18 days 09:27:22\n",
       "75%               85 days 22:09:15\n",
       "max             6965 days 08:27:35\n",
       "Name: lead_time, dtype: object"
      ]
     },
     "execution_count": 279,
     "metadata": {},
     "output_type": "execute_result"
    }
   ],
   "source": [
    "df['lead_time'].describe()"
   ]
  },
  {
   "cell_type": "code",
   "execution_count": 280,
   "metadata": {},
   "outputs": [],
   "source": [
    "years = df.groupby('year')"
   ]
  },
  {
   "cell_type": "code",
   "execution_count": 281,
   "metadata": {},
   "outputs": [
    {
     "data": {
      "text/html": [
       "<div>\n",
       "<style scoped>\n",
       "    .dataframe tbody tr th:only-of-type {\n",
       "        vertical-align: middle;\n",
       "    }\n",
       "\n",
       "    .dataframe tbody tr th {\n",
       "        vertical-align: top;\n",
       "    }\n",
       "\n",
       "    .dataframe thead th {\n",
       "        text-align: right;\n",
       "    }\n",
       "</style>\n",
       "<table border=\"1\" class=\"dataframe\">\n",
       "  <thead>\n",
       "    <tr style=\"text-align: right;\">\n",
       "      <th></th>\n",
       "      <th>count</th>\n",
       "      <th>mean</th>\n",
       "      <th>std</th>\n",
       "      <th>min</th>\n",
       "      <th>25%</th>\n",
       "      <th>50%</th>\n",
       "      <th>75%</th>\n",
       "      <th>max</th>\n",
       "    </tr>\n",
       "    <tr>\n",
       "      <th>year</th>\n",
       "      <th></th>\n",
       "      <th></th>\n",
       "      <th></th>\n",
       "      <th></th>\n",
       "      <th></th>\n",
       "      <th></th>\n",
       "      <th></th>\n",
       "      <th></th>\n",
       "    </tr>\n",
       "  </thead>\n",
       "  <tbody>\n",
       "    <tr>\n",
       "      <th>2010</th>\n",
       "      <td>1657.0</td>\n",
       "      <td>103.360893</td>\n",
       "      <td>346.965070</td>\n",
       "      <td>0.0</td>\n",
       "      <td>6.0</td>\n",
       "      <td>23.0</td>\n",
       "      <td>85.0</td>\n",
       "      <td>4529.0</td>\n",
       "    </tr>\n",
       "    <tr>\n",
       "      <th>2011</th>\n",
       "      <td>1365.0</td>\n",
       "      <td>121.580220</td>\n",
       "      <td>381.120322</td>\n",
       "      <td>0.0</td>\n",
       "      <td>5.0</td>\n",
       "      <td>17.0</td>\n",
       "      <td>84.0</td>\n",
       "      <td>4419.0</td>\n",
       "    </tr>\n",
       "    <tr>\n",
       "      <th>2012</th>\n",
       "      <td>2829.0</td>\n",
       "      <td>95.892188</td>\n",
       "      <td>336.323517</td>\n",
       "      <td>0.0</td>\n",
       "      <td>3.0</td>\n",
       "      <td>11.0</td>\n",
       "      <td>47.0</td>\n",
       "      <td>4812.0</td>\n",
       "    </tr>\n",
       "    <tr>\n",
       "      <th>2013</th>\n",
       "      <td>3041.0</td>\n",
       "      <td>755.339033</td>\n",
       "      <td>1717.449028</td>\n",
       "      <td>0.0</td>\n",
       "      <td>5.0</td>\n",
       "      <td>23.0</td>\n",
       "      <td>152.0</td>\n",
       "      <td>5420.0</td>\n",
       "    </tr>\n",
       "    <tr>\n",
       "      <th>2014</th>\n",
       "      <td>4345.0</td>\n",
       "      <td>639.431530</td>\n",
       "      <td>1604.493075</td>\n",
       "      <td>0.0</td>\n",
       "      <td>5.0</td>\n",
       "      <td>23.0</td>\n",
       "      <td>136.0</td>\n",
       "      <td>5856.0</td>\n",
       "    </tr>\n",
       "    <tr>\n",
       "      <th>2015</th>\n",
       "      <td>5764.0</td>\n",
       "      <td>592.546149</td>\n",
       "      <td>1574.542164</td>\n",
       "      <td>0.0</td>\n",
       "      <td>12.0</td>\n",
       "      <td>29.0</td>\n",
       "      <td>105.0</td>\n",
       "      <td>6050.0</td>\n",
       "    </tr>\n",
       "    <tr>\n",
       "      <th>2016</th>\n",
       "      <td>3839.0</td>\n",
       "      <td>138.618130</td>\n",
       "      <td>471.560738</td>\n",
       "      <td>0.0</td>\n",
       "      <td>5.0</td>\n",
       "      <td>17.0</td>\n",
       "      <td>83.0</td>\n",
       "      <td>6120.0</td>\n",
       "    </tr>\n",
       "    <tr>\n",
       "      <th>2017</th>\n",
       "      <td>4792.0</td>\n",
       "      <td>402.960559</td>\n",
       "      <td>1375.892490</td>\n",
       "      <td>0.0</td>\n",
       "      <td>3.0</td>\n",
       "      <td>10.0</td>\n",
       "      <td>57.0</td>\n",
       "      <td>6782.0</td>\n",
       "    </tr>\n",
       "    <tr>\n",
       "      <th>2018</th>\n",
       "      <td>4367.0</td>\n",
       "      <td>110.434852</td>\n",
       "      <td>397.294404</td>\n",
       "      <td>0.0</td>\n",
       "      <td>3.0</td>\n",
       "      <td>10.0</td>\n",
       "      <td>55.0</td>\n",
       "      <td>6965.0</td>\n",
       "    </tr>\n",
       "  </tbody>\n",
       "</table>\n",
       "</div>"
      ],
      "text/plain": [
       "       count        mean          std  min   25%   50%    75%     max\n",
       "year                                                                 \n",
       "2010  1657.0  103.360893   346.965070  0.0   6.0  23.0   85.0  4529.0\n",
       "2011  1365.0  121.580220   381.120322  0.0   5.0  17.0   84.0  4419.0\n",
       "2012  2829.0   95.892188   336.323517  0.0   3.0  11.0   47.0  4812.0\n",
       "2013  3041.0  755.339033  1717.449028  0.0   5.0  23.0  152.0  5420.0\n",
       "2014  4345.0  639.431530  1604.493075  0.0   5.0  23.0  136.0  5856.0\n",
       "2015  5764.0  592.546149  1574.542164  0.0  12.0  29.0  105.0  6050.0\n",
       "2016  3839.0  138.618130   471.560738  0.0   5.0  17.0   83.0  6120.0\n",
       "2017  4792.0  402.960559  1375.892490  0.0   3.0  10.0   57.0  6782.0\n",
       "2018  4367.0  110.434852   397.294404  0.0   3.0  10.0   55.0  6965.0"
      ]
     },
     "execution_count": 281,
     "metadata": {},
     "output_type": "execute_result"
    }
   ],
   "source": [
    "years['lead_days'].describe()"
   ]
  },
  {
   "cell_type": "code",
   "execution_count": 282,
   "metadata": {},
   "outputs": [
    {
     "data": {
      "image/png": "[encoded data removed]",
      "text/plain": [
       "<Figure size 432x288 with 1 Axes>"
      ]
     },
     "metadata": {
      "needs_background": "light"
     },
     "output_type": "display_data"
    }
   ],
   "source": [
    "for group in years.groups:\n",
    "    year = years.get_group(group)[['lead_time', 'lead_days']]\n",
    "    sns.kdeplot(year['lead_days'], label=group)"
   ]
  },
  {
   "cell_type": "markdown",
   "metadata": {},
   "source": [
    "## The last 90 days\n",
    "\n",
    "Let's show only the commits where the bug was filed in the last 90 days."
   ]
  },
  {
   "cell_type": "code",
   "execution_count": 283,
   "metadata": {},
   "outputs": [
    {
     "data": {
      "text/html": [
       "<div>\n",
       "<style scoped>\n",
       "    .dataframe tbody tr th:only-of-type {\n",
       "        vertical-align: middle;\n",
       "    }\n",
       "\n",
       "    .dataframe tbody tr th {\n",
       "        vertical-align: top;\n",
       "    }\n",
       "\n",
       "    .dataframe thead tr th {\n",
       "        text-align: left;\n",
       "    }\n",
       "\n",
       "    .dataframe thead tr:last-of-type th {\n",
       "        text-align: right;\n",
       "    }\n",
       "</style>\n",
       "<table border=\"1\" class=\"dataframe\">\n",
       "  <thead>\n",
       "    <tr>\n",
       "      <th></th>\n",
       "      <th colspan=\"8\" halign=\"left\">lead_days</th>\n",
       "    </tr>\n",
       "    <tr>\n",
       "      <th></th>\n",
       "      <th>count</th>\n",
       "      <th>mean</th>\n",
       "      <th>std</th>\n",
       "      <th>min</th>\n",
       "      <th>25%</th>\n",
       "      <th>50%</th>\n",
       "      <th>75%</th>\n",
       "      <th>max</th>\n",
       "    </tr>\n",
       "    <tr>\n",
       "      <th>year</th>\n",
       "      <th></th>\n",
       "      <th></th>\n",
       "      <th></th>\n",
       "      <th></th>\n",
       "      <th></th>\n",
       "      <th></th>\n",
       "      <th></th>\n",
       "      <th></th>\n",
       "    </tr>\n",
       "  </thead>\n",
       "  <tbody>\n",
       "    <tr>\n",
       "      <th>2010</th>\n",
       "      <td>1361.0</td>\n",
       "      <td>25.897869</td>\n",
       "      <td>27.311665</td>\n",
       "      <td>0.0</td>\n",
       "      <td>4.0</td>\n",
       "      <td>15.0</td>\n",
       "      <td>40.0</td>\n",
       "      <td>90.0</td>\n",
       "    </tr>\n",
       "    <tr>\n",
       "      <th>2011</th>\n",
       "      <td>1037.0</td>\n",
       "      <td>18.290260</td>\n",
       "      <td>21.048107</td>\n",
       "      <td>0.0</td>\n",
       "      <td>3.0</td>\n",
       "      <td>9.0</td>\n",
       "      <td>26.0</td>\n",
       "      <td>90.0</td>\n",
       "    </tr>\n",
       "    <tr>\n",
       "      <th>2012</th>\n",
       "      <td>2302.0</td>\n",
       "      <td>14.307559</td>\n",
       "      <td>18.061297</td>\n",
       "      <td>0.0</td>\n",
       "      <td>2.0</td>\n",
       "      <td>7.0</td>\n",
       "      <td>19.0</td>\n",
       "      <td>90.0</td>\n",
       "    </tr>\n",
       "    <tr>\n",
       "      <th>2013</th>\n",
       "      <td>2127.0</td>\n",
       "      <td>18.303714</td>\n",
       "      <td>20.791622</td>\n",
       "      <td>0.0</td>\n",
       "      <td>3.0</td>\n",
       "      <td>9.0</td>\n",
       "      <td>27.0</td>\n",
       "      <td>90.0</td>\n",
       "    </tr>\n",
       "    <tr>\n",
       "      <th>2014</th>\n",
       "      <td>3072.0</td>\n",
       "      <td>17.946615</td>\n",
       "      <td>20.694529</td>\n",
       "      <td>0.0</td>\n",
       "      <td>3.0</td>\n",
       "      <td>8.0</td>\n",
       "      <td>27.0</td>\n",
       "      <td>90.0</td>\n",
       "    </tr>\n",
       "    <tr>\n",
       "      <th>2015</th>\n",
       "      <td>4161.0</td>\n",
       "      <td>24.291036</td>\n",
       "      <td>20.950930</td>\n",
       "      <td>0.0</td>\n",
       "      <td>8.0</td>\n",
       "      <td>20.0</td>\n",
       "      <td>31.0</td>\n",
       "      <td>90.0</td>\n",
       "    </tr>\n",
       "    <tr>\n",
       "      <th>2016</th>\n",
       "      <td>2904.0</td>\n",
       "      <td>19.877410</td>\n",
       "      <td>23.085893</td>\n",
       "      <td>0.0</td>\n",
       "      <td>3.0</td>\n",
       "      <td>8.0</td>\n",
       "      <td>29.0</td>\n",
       "      <td>90.0</td>\n",
       "    </tr>\n",
       "    <tr>\n",
       "      <th>2017</th>\n",
       "      <td>3753.0</td>\n",
       "      <td>13.060751</td>\n",
       "      <td>17.460725</td>\n",
       "      <td>0.0</td>\n",
       "      <td>2.0</td>\n",
       "      <td>6.0</td>\n",
       "      <td>16.0</td>\n",
       "      <td>90.0</td>\n",
       "    </tr>\n",
       "    <tr>\n",
       "      <th>2018</th>\n",
       "      <td>3498.0</td>\n",
       "      <td>14.132361</td>\n",
       "      <td>19.477091</td>\n",
       "      <td>0.0</td>\n",
       "      <td>2.0</td>\n",
       "      <td>6.0</td>\n",
       "      <td>15.0</td>\n",
       "      <td>90.0</td>\n",
       "    </tr>\n",
       "  </tbody>\n",
       "</table>\n",
       "</div>"
      ],
      "text/plain": [
       "     lead_days                                                  \n",
       "         count       mean        std  min  25%   50%   75%   max\n",
       "year                                                            \n",
       "2010    1361.0  25.897869  27.311665  0.0  4.0  15.0  40.0  90.0\n",
       "2011    1037.0  18.290260  21.048107  0.0  3.0   9.0  26.0  90.0\n",
       "2012    2302.0  14.307559  18.061297  0.0  2.0   7.0  19.0  90.0\n",
       "2013    2127.0  18.303714  20.791622  0.0  3.0   9.0  27.0  90.0\n",
       "2014    3072.0  17.946615  20.694529  0.0  3.0   8.0  27.0  90.0\n",
       "2015    4161.0  24.291036  20.950930  0.0  8.0  20.0  31.0  90.0\n",
       "2016    2904.0  19.877410  23.085893  0.0  3.0   8.0  29.0  90.0\n",
       "2017    3753.0  13.060751  17.460725  0.0  2.0   6.0  16.0  90.0\n",
       "2018    3498.0  14.132361  19.477091  0.0  2.0   6.0  15.0  90.0"
      ]
     },
     "execution_count": 283,
     "metadata": {},
     "output_type": "execute_result"
    }
   ],
   "source": [
    "yd = df.loc[:,['year', 'lead_days']]\n",
    "shortgrp = yd[yd['lead_days'] <= 90].groupby('year')\n",
    "shortgrp.describe()"
   ]
  },
  {
   "cell_type": "code",
   "execution_count": 284,
   "metadata": {},
   "outputs": [
    {
     "data": {
      "image/png": "[encoded data removed]",
      "text/plain": [
       "<Figure size 432x288 with 1 Axes>"
      ]
     },
     "metadata": {
      "needs_background": "light"
     },
     "output_type": "display_data"
    }
   ],
   "source": [
    "sns.distplot(shortgrp.get_group(2018)['lead_days'], kde=False);"
   ]
  },
  {
   "cell_type": "code",
   "execution_count": 285,
   "metadata": {},
   "outputs": [
    {
     "data": {
      "image/png": "[encoded data removed]",
      "text/plain": [
       "<Figure size 432x288 with 1 Axes>"
      ]
     },
     "metadata": {
      "needs_background": "light"
     },
     "output_type": "display_data"
    }
   ],
   "source": [
    "for year, data in shortgrp:\n",
    "    sns.kdeplot(data['lead_days'], label=year)"
   ]
  },
  {
   "cell_type": "code",
   "execution_count": 286,
   "metadata": {},
   "outputs": [
    {
     "data": {
      "image/png": "[encoded data removed]",
      "text/plain": [
       "<Figure size 432x288 with 1 Axes>"
      ]
     },
     "metadata": {
      "needs_background": "light"
     },
     "output_type": "display_data"
    }
   ],
   "source": [
    "for year, data in shortgrp:\n",
    "    sns.kdeplot(data['lead_days'], label=year, cumulative=True)"
   ]
  },
  {
   "cell_type": "markdown",
   "metadata": {},
   "source": [
    "### Build times"
   ]
  },
  {
   "cell_type": "code",
   "execution_count": 301,
   "metadata": {},
   "outputs": [],
   "source": [
    "push_to_publish = df.loc[:,['nightly_publish_time', 'changeset_pushtime', 'changeset_pushid', 'year']]"
   ]
  },
  {
   "cell_type": "code",
   "execution_count": 302,
   "metadata": {},
   "outputs": [
    {
     "data": {
      "text/plain": [
       "count                     31999\n",
       "mean     1 days 13:57:01.841557\n",
       "std      4 days 01:44:04.232577\n",
       "min           -1 days +18:14:41\n",
       "25%             0 days 02:54:30\n",
       "50%             0 days 07:40:11\n",
       "75%             0 days 15:07:36\n",
       "max            22 days 05:58:21\n",
       "Name: duration, dtype: object"
      ]
     },
     "execution_count": 302,
     "metadata": {},
     "output_type": "execute_result"
    }
   ],
   "source": [
    "push_to_publish['duration'] = push_to_publish['nightly_publish_time'] - push_to_publish['changeset_pushtime']\n",
    "push_to_publish['duration'].describe()"
   ]
  },
  {
   "cell_type": "markdown",
   "metadata": {},
   "source": [
    "We need to kill any records where the duration in days is negative.  Probably bad data."
   ]
  },
  {
   "cell_type": "code",
   "execution_count": 303,
   "metadata": {},
   "outputs": [
    {
     "data": {
      "text/plain": [
       "(2129, 5)"
      ]
     },
     "execution_count": 303,
     "metadata": {},
     "output_type": "execute_result"
    }
   ],
   "source": [
    "oops = push_to_publish[(push_to_publish['duration'].dt.days < 0) | \n",
    "                       (push_to_publish['duration'].dt.seconds < 0)]\n",
    "oops.shape"
   ]
  },
  {
   "cell_type": "code",
   "execution_count": 304,
   "metadata": {},
   "outputs": [],
   "source": [
    "push_to_publish = push_to_publish.drop(oops.index)"
   ]
  },
  {
   "cell_type": "code",
   "execution_count": 305,
   "metadata": {},
   "outputs": [],
   "source": [
    "push_to_publish['hours'] = push_to_publish['duration'].dt.total_seconds() / 3600"
   ]
  },
  {
   "cell_type": "code",
   "execution_count": 306,
   "metadata": {},
   "outputs": [],
   "source": [
    "# Builds can have multiple changesets.  Changesets are all members of the same pushid.\n",
    "# Take only the build time in one record for each push.\n",
    "pushes = push_to_publish.groupby(['year', 'changeset_pushid']).first()\n",
    "groupedhours = pushes.groupby('year')['hours']"
   ]
  },
  {
   "cell_type": "code",
   "execution_count": 308,
   "metadata": {},
   "outputs": [
    {
     "data": {
      "text/html": [
       "<div>\n",
       "<style scoped>\n",
       "    .dataframe tbody tr th:only-of-type {\n",
       "        vertical-align: middle;\n",
       "    }\n",
       "\n",
       "    .dataframe tbody tr th {\n",
       "        vertical-align: top;\n",
       "    }\n",
       "\n",
       "    .dataframe thead th {\n",
       "        text-align: right;\n",
       "    }\n",
       "</style>\n",
       "<table border=\"1\" class=\"dataframe\">\n",
       "  <thead>\n",
       "    <tr style=\"text-align: right;\">\n",
       "      <th></th>\n",
       "      <th>count</th>\n",
       "      <th>mean</th>\n",
       "      <th>std</th>\n",
       "      <th>min</th>\n",
       "      <th>25%</th>\n",
       "      <th>50%</th>\n",
       "      <th>75%</th>\n",
       "      <th>max</th>\n",
       "    </tr>\n",
       "    <tr>\n",
       "      <th>year</th>\n",
       "      <th></th>\n",
       "      <th></th>\n",
       "      <th></th>\n",
       "      <th></th>\n",
       "      <th></th>\n",
       "      <th></th>\n",
       "      <th></th>\n",
       "      <th></th>\n",
       "    </tr>\n",
       "  </thead>\n",
       "  <tbody>\n",
       "    <tr>\n",
       "      <th>2010</th>\n",
       "      <td>485.0</td>\n",
       "      <td>8.645822</td>\n",
       "      <td>4.433543</td>\n",
       "      <td>0.003056</td>\n",
       "      <td>5.507500</td>\n",
       "      <td>8.801389</td>\n",
       "      <td>11.692778</td>\n",
       "      <td>23.173056</td>\n",
       "    </tr>\n",
       "    <tr>\n",
       "      <th>2011</th>\n",
       "      <td>124.0</td>\n",
       "      <td>11.048210</td>\n",
       "      <td>5.552028</td>\n",
       "      <td>0.084444</td>\n",
       "      <td>6.664653</td>\n",
       "      <td>11.312639</td>\n",
       "      <td>15.899375</td>\n",
       "      <td>20.395833</td>\n",
       "    </tr>\n",
       "    <tr>\n",
       "      <th>2012</th>\n",
       "      <td>168.0</td>\n",
       "      <td>9.154567</td>\n",
       "      <td>5.333157</td>\n",
       "      <td>0.260556</td>\n",
       "      <td>4.954306</td>\n",
       "      <td>9.205000</td>\n",
       "      <td>12.093958</td>\n",
       "      <td>27.886667</td>\n",
       "    </tr>\n",
       "    <tr>\n",
       "      <th>2013</th>\n",
       "      <td>122.0</td>\n",
       "      <td>8.073470</td>\n",
       "      <td>5.482134</td>\n",
       "      <td>0.268333</td>\n",
       "      <td>2.565486</td>\n",
       "      <td>7.556806</td>\n",
       "      <td>12.044792</td>\n",
       "      <td>19.505000</td>\n",
       "    </tr>\n",
       "    <tr>\n",
       "      <th>2014</th>\n",
       "      <td>147.0</td>\n",
       "      <td>8.807695</td>\n",
       "      <td>4.932490</td>\n",
       "      <td>0.188611</td>\n",
       "      <td>4.169444</td>\n",
       "      <td>8.217222</td>\n",
       "      <td>14.258056</td>\n",
       "      <td>17.411111</td>\n",
       "    </tr>\n",
       "    <tr>\n",
       "      <th>2015</th>\n",
       "      <td>146.0</td>\n",
       "      <td>202.495160</td>\n",
       "      <td>165.291906</td>\n",
       "      <td>2.518611</td>\n",
       "      <td>37.852708</td>\n",
       "      <td>186.316944</td>\n",
       "      <td>360.907292</td>\n",
       "      <td>533.972500</td>\n",
       "    </tr>\n",
       "    <tr>\n",
       "      <th>2016</th>\n",
       "      <td>114.0</td>\n",
       "      <td>15.945945</td>\n",
       "      <td>13.936816</td>\n",
       "      <td>1.793611</td>\n",
       "      <td>4.352500</td>\n",
       "      <td>12.897361</td>\n",
       "      <td>21.680417</td>\n",
       "      <td>68.369444</td>\n",
       "    </tr>\n",
       "    <tr>\n",
       "      <th>2017</th>\n",
       "      <td>127.0</td>\n",
       "      <td>5.542152</td>\n",
       "      <td>3.951168</td>\n",
       "      <td>2.274722</td>\n",
       "      <td>3.013611</td>\n",
       "      <td>3.511111</td>\n",
       "      <td>5.684306</td>\n",
       "      <td>15.710556</td>\n",
       "    </tr>\n",
       "    <tr>\n",
       "      <th>2018</th>\n",
       "      <td>216.0</td>\n",
       "      <td>5.574839</td>\n",
       "      <td>3.844082</td>\n",
       "      <td>1.713611</td>\n",
       "      <td>2.216667</td>\n",
       "      <td>4.786111</td>\n",
       "      <td>7.683542</td>\n",
       "      <td>21.703611</td>\n",
       "    </tr>\n",
       "  </tbody>\n",
       "</table>\n",
       "</div>"
      ],
      "text/plain": [
       "      count        mean         std       min        25%         50%  \\\n",
       "year                                                                   \n",
       "2010  485.0    8.645822    4.433543  0.003056   5.507500    8.801389   \n",
       "2011  124.0   11.048210    5.552028  0.084444   6.664653   11.312639   \n",
       "2012  168.0    9.154567    5.333157  0.260556   4.954306    9.205000   \n",
       "2013  122.0    8.073470    5.482134  0.268333   2.565486    7.556806   \n",
       "2014  147.0    8.807695    4.932490  0.188611   4.169444    8.217222   \n",
       "2015  146.0  202.495160  165.291906  2.518611  37.852708  186.316944   \n",
       "2016  114.0   15.945945   13.936816  1.793611   4.352500   12.897361   \n",
       "2017  127.0    5.542152    3.951168  2.274722   3.013611    3.511111   \n",
       "2018  216.0    5.574839    3.844082  1.713611   2.216667    4.786111   \n",
       "\n",
       "             75%         max  \n",
       "year                          \n",
       "2010   11.692778   23.173056  \n",
       "2011   15.899375   20.395833  \n",
       "2012   12.093958   27.886667  \n",
       "2013   12.044792   19.505000  \n",
       "2014   14.258056   17.411111  \n",
       "2015  360.907292  533.972500  \n",
       "2016   21.680417   68.369444  \n",
       "2017    5.684306   15.710556  \n",
       "2018    7.683542   21.703611  "
      ]
     },
     "execution_count": 308,
     "metadata": {},
     "output_type": "execute_result"
    }
   ],
   "source": [
    "groupedhours.describe()"
   ]
  },
  {
   "cell_type": "code",
   "execution_count": 309,
   "metadata": {},
   "outputs": [
    {
     "data": {
      "image/png": "[encoded data removed]",
      "text/plain": [
       "<Figure size 432x288 with 1 Axes>"
      ]
     },
     "metadata": {
      "needs_background": "light"
     },
     "output_type": "display_data"
    }
   ],
   "source": [
    "# All years except 2015 and 2016, which look like they have weird data?\n",
    "# Also drop 2010 because its build times fall well below 2011's.\n",
    "for year in sorted(set(groupedhours.groups) - {2010, 2015, 2016}):\n",
    "    sns.kdeplot(groupedhours.get_group(year), label=year, cumulative=True, clip=(0, 25))"
   ]
  },
  {
   "cell_type": "code",
   "execution_count": 310,
   "metadata": {},
   "outputs": [
    {
     "name": "stdout",
     "output_type": "stream",
     "text": [
      "2010-2011 build time decrease\n"
     ]
    },
    {
     "data": {
      "image/png": "[encoded data removed]",
      "text/plain": [
       "<Figure size 432x288 with 1 Axes>"
      ]
     },
     "metadata": {
      "needs_background": "light"
     },
     "output_type": "display_data"
    }
   ],
   "source": [
    "print(\"2010-2011 build time decrease\")\n",
    "for year in (2010, 2011, 2018):\n",
    "    sns.kdeplot(groupedhours.get_group(year), label=year, cumulative=True)"
   ]
  },
  {
   "cell_type": "code",
   "execution_count": 311,
   "metadata": {},
   "outputs": [
    {
     "name": "stdout",
     "output_type": "stream",
     "text": [
      "2016 build time weirdness\n"
     ]
    },
    {
     "data": {
      "image/png": "[encoded data removed]",
      "text/plain": [
       "<Figure size 432x288 with 1 Axes>"
      ]
     },
     "metadata": {
      "needs_background": "light"
     },
     "output_type": "display_data"
    }
   ],
   "source": [
    "print(\"2016 build time weirdness\")\n",
    "for year in (2016, 2017, 2018):\n",
    "    sns.kdeplot(groupedhours.get_group(year), label=year, cumulative=True)"
   ]
  },
  {
   "cell_type": "code",
   "execution_count": 312,
   "metadata": {},
   "outputs": [
    {
     "name": "stdout",
     "output_type": "stream",
     "text": [
      "2015 data is even more weird\n"
     ]
    },
    {
     "data": {
      "image/png": "[encoded data removed]",
      "text/plain": [
       "<Figure size 432x288 with 1 Axes>"
      ]
     },
     "metadata": {
      "needs_background": "light"
     },
     "output_type": "display_data"
    }
   ],
   "source": [
    "print(\"2015 data is even more weird\")\n",
    "for year in (2015, 2016, 2018):\n",
    "    sns.kdeplot(groupedhours.get_group(year), label=year, cumulative=True)"
   ]
  },
  {
   "cell_type": "code",
   "execution_count": null,
   "metadata": {},
   "outputs": [],
   "source": []
  }
 ],
 "metadata": {
  "kernelspec": {
   "display_name": "Python 3",
   "language": "python",
   "name": "python3"
  },
  "language_info": {
   "codemirror_mode": {
    "name": "ipython",
    "version": 3
   },
   "file_extension": ".py",
   "mimetype": "text/x-python",
   "name": "python",
   "nbconvert_exporter": "python",
   "pygments_lexer": "ipython3",
   "version": "3.6.5"
  }
 },
 "nbformat": 4,
 "nbformat_minor": 2
}
