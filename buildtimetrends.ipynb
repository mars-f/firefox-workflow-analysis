{
 "cells": [
  {
   "cell_type": "markdown",
   "metadata": {},
   "source": [
    "# Firefox engineering build time trends"
   ]
  },
  {
   "cell_type": "code",
   "execution_count": 140,
   "metadata": {},
   "outputs": [],
   "source": [
    "import pandas as pd\n",
    "import seaborn as sns"
   ]
  },
  {
   "cell_type": "code",
   "execution_count": 141,
   "metadata": {},
   "outputs": [],
   "source": [
    "files = ['data/nightly-{}{}.parq'.format(y, m)\n",
    "         for y in (2016, 2017, 2018) \n",
    "         for m in ('01', '02', '03')]"
   ]
  },
  {
   "cell_type": "code",
   "execution_count": 142,
   "metadata": {},
   "outputs": [
    {
     "data": {
      "text/plain": [
       "(40092, 8)"
      ]
     },
     "execution_count": 142,
     "metadata": {},
     "output_type": "execute_result"
    }
   ],
   "source": [
    "df = pd.concat([pd.read_parquet(fn) for fn in files], ignore_index=True)\n",
    "df.shape"
   ]
  },
  {
   "cell_type": "code",
   "execution_count": 143,
   "metadata": {},
   "outputs": [
    {
     "data": {
      "text/html": [
       "<div>\n",
       "<style scoped>\n",
       "    .dataframe tbody tr th:only-of-type {\n",
       "        vertical-align: middle;\n",
       "    }\n",
       "\n",
       "    .dataframe tbody tr th {\n",
       "        vertical-align: top;\n",
       "    }\n",
       "\n",
       "    .dataframe thead th {\n",
       "        text-align: right;\n",
       "    }\n",
       "</style>\n",
       "<table border=\"1\" class=\"dataframe\">\n",
       "  <thead>\n",
       "    <tr style=\"text-align: right;\">\n",
       "      <th></th>\n",
       "      <th>changeset</th>\n",
       "      <th>changeset_desc</th>\n",
       "      <th>changeset_pushid</th>\n",
       "      <th>changeset_pushtime</th>\n",
       "      <th>bug</th>\n",
       "      <th>bug_creation_time</th>\n",
       "      <th>nightly_build_id</th>\n",
       "      <th>nightly_publish_time</th>\n",
       "    </tr>\n",
       "  </thead>\n",
       "  <tbody>\n",
       "    <tr>\n",
       "      <th>0</th>\n",
       "      <td>3958782fe187026cbc3755ad6eae6920e67fa7d2</td>\n",
       "      <td>Bug 989960 - Unhandled rejections in DOM Promi...</td>\n",
       "      <td>29957</td>\n",
       "      <td>2016-01-30 17:15:45</td>\n",
       "      <td>989960.0</td>\n",
       "      <td>2014-03-31 11:45:09</td>\n",
       "      <td>20160131030347</td>\n",
       "      <td>2016-01-31 13:44:24+00:00</td>\n",
       "    </tr>\n",
       "    <tr>\n",
       "      <th>1</th>\n",
       "      <td>e8d8faa2595513aca6258f0d9e224f86c6ecd01e</td>\n",
       "      <td>Bug 1241111 - Allow overriding SOURCE_REV_URL,...</td>\n",
       "      <td>29957</td>\n",
       "      <td>2016-01-30 17:15:45</td>\n",
       "      <td>1241111.0</td>\n",
       "      <td>2016-01-20 13:44:46</td>\n",
       "      <td>20160131030347</td>\n",
       "      <td>2016-01-31 13:44:24+00:00</td>\n",
       "    </tr>\n",
       "    <tr>\n",
       "      <th>2</th>\n",
       "      <td>62b2d7cabf94a62d5fea1836eb50f7e813dff8c1</td>\n",
       "      <td>Bug 1242667 - Remove unused MOZ_TELEMETRY_DISP...</td>\n",
       "      <td>29957</td>\n",
       "      <td>2016-01-30 17:15:45</td>\n",
       "      <td>1242667.0</td>\n",
       "      <td>2016-01-25 19:46:58</td>\n",
       "      <td>20160131030347</td>\n",
       "      <td>2016-01-31 13:44:24+00:00</td>\n",
       "    </tr>\n",
       "    <tr>\n",
       "      <th>3</th>\n",
       "      <td>ed69cf9c7396135de51ae9f620e851308fd4a34b</td>\n",
       "      <td>Bug 1037483 adopt microformats-shiv for microf...</td>\n",
       "      <td>29957</td>\n",
       "      <td>2016-01-30 17:15:45</td>\n",
       "      <td>1037483.0</td>\n",
       "      <td>2014-07-11 15:53:52</td>\n",
       "      <td>20160131030347</td>\n",
       "      <td>2016-01-31 13:44:24+00:00</td>\n",
       "    </tr>\n",
       "    <tr>\n",
       "      <th>4</th>\n",
       "      <td>96f4549cab327edecf945365a6c2637caef1eecf</td>\n",
       "      <td>Bug 1037483 replace microdata with microformat...</td>\n",
       "      <td>29957</td>\n",
       "      <td>2016-01-30 17:15:45</td>\n",
       "      <td>1037483.0</td>\n",
       "      <td>2014-07-11 15:53:52</td>\n",
       "      <td>20160131030347</td>\n",
       "      <td>2016-01-31 13:44:24+00:00</td>\n",
       "    </tr>\n",
       "  </tbody>\n",
       "</table>\n",
       "</div>"
      ],
      "text/plain": [
       "                                  changeset  \\\n",
       "0  3958782fe187026cbc3755ad6eae6920e67fa7d2   \n",
       "1  e8d8faa2595513aca6258f0d9e224f86c6ecd01e   \n",
       "2  62b2d7cabf94a62d5fea1836eb50f7e813dff8c1   \n",
       "3  ed69cf9c7396135de51ae9f620e851308fd4a34b   \n",
       "4  96f4549cab327edecf945365a6c2637caef1eecf   \n",
       "\n",
       "                                      changeset_desc changeset_pushid  \\\n",
       "0  Bug 989960 - Unhandled rejections in DOM Promi...            29957   \n",
       "1  Bug 1241111 - Allow overriding SOURCE_REV_URL,...            29957   \n",
       "2  Bug 1242667 - Remove unused MOZ_TELEMETRY_DISP...            29957   \n",
       "3  Bug 1037483 adopt microformats-shiv for microf...            29957   \n",
       "4  Bug 1037483 replace microdata with microformat...            29957   \n",
       "\n",
       "   changeset_pushtime        bug   bug_creation_time nightly_build_id  \\\n",
       "0 2016-01-30 17:15:45   989960.0 2014-03-31 11:45:09   20160131030347   \n",
       "1 2016-01-30 17:15:45  1241111.0 2016-01-20 13:44:46   20160131030347   \n",
       "2 2016-01-30 17:15:45  1242667.0 2016-01-25 19:46:58   20160131030347   \n",
       "3 2016-01-30 17:15:45  1037483.0 2014-07-11 15:53:52   20160131030347   \n",
       "4 2016-01-30 17:15:45  1037483.0 2014-07-11 15:53:52   20160131030347   \n",
       "\n",
       "       nightly_publish_time  \n",
       "0 2016-01-31 13:44:24+00:00  \n",
       "1 2016-01-31 13:44:24+00:00  \n",
       "2 2016-01-31 13:44:24+00:00  \n",
       "3 2016-01-31 13:44:24+00:00  \n",
       "4 2016-01-31 13:44:24+00:00  "
      ]
     },
     "execution_count": 143,
     "metadata": {},
     "output_type": "execute_result"
    }
   ],
   "source": [
    "df.head()"
   ]
  },
  {
   "cell_type": "code",
   "execution_count": 144,
   "metadata": {},
   "outputs": [],
   "source": [
    "df['year'] = df['nightly_publish_time'].dt.year"
   ]
  },
  {
   "cell_type": "code",
   "execution_count": 145,
   "metadata": {},
   "outputs": [],
   "source": [
    "df['changeset_pushtime'] = df['changeset_pushtime'].dt.tz_localize('UTC')"
   ]
  },
  {
   "cell_type": "code",
   "execution_count": 146,
   "metadata": {},
   "outputs": [
    {
     "data": {
      "text/plain": [
       "year\n",
       "2016    11793\n",
       "2017    16167\n",
       "2018    12132\n",
       "dtype: int64"
      ]
     },
     "execution_count": 146,
     "metadata": {},
     "output_type": "execute_result"
    }
   ],
   "source": [
    "df.groupby('year').size()"
   ]
  },
  {
   "cell_type": "code",
   "execution_count": 163,
   "metadata": {},
   "outputs": [
    {
     "name": "stdout",
     "output_type": "stream",
     "text": [
      "Number of unique builds per year\n"
     ]
    },
    {
     "data": {
      "text/plain": [
       "year\n",
       "2016     85\n",
       "2017     88\n",
       "2018    167\n",
       "Name: nightly_build_id, dtype: int64"
      ]
     },
     "execution_count": 163,
     "metadata": {},
     "output_type": "execute_result"
    }
   ],
   "source": [
    "print(\"Number of unique builds per year\")\n",
    "df.groupby('year')['nightly_build_id'].nunique()"
   ]
  },
  {
   "cell_type": "code",
   "execution_count": 147,
   "metadata": {},
   "outputs": [
    {
     "data": {
      "text/plain": [
       "count    40092.000000\n",
       "mean        11.924309\n",
       "std          9.992328\n",
       "min          0.910556\n",
       "25%          2.797222\n",
       "50%         11.264444\n",
       "75%         16.618333\n",
       "max         59.100556\n",
       "Name: hours, dtype: float64"
      ]
     },
     "execution_count": 147,
     "metadata": {},
     "output_type": "execute_result"
    }
   ],
   "source": [
    "df['push_to_publish'] = df['nightly_publish_time'] - df['changeset_pushtime']\n",
    "df['hours'] = df['push_to_publish'].dt.total_seconds() / 3600\n",
    "df['hours'].describe()"
   ]
  },
  {
   "cell_type": "code",
   "execution_count": 148,
   "metadata": {},
   "outputs": [],
   "source": [
    "groupedhours = df.groupby('year')['hours']"
   ]
  },
  {
   "cell_type": "code",
   "execution_count": 149,
   "metadata": {},
   "outputs": [
    {
     "data": {
      "text/html": [
       "<div>\n",
       "<style scoped>\n",
       "    .dataframe tbody tr th:only-of-type {\n",
       "        vertical-align: middle;\n",
       "    }\n",
       "\n",
       "    .dataframe tbody tr th {\n",
       "        vertical-align: top;\n",
       "    }\n",
       "\n",
       "    .dataframe thead th {\n",
       "        text-align: right;\n",
       "    }\n",
       "</style>\n",
       "<table border=\"1\" class=\"dataframe\">\n",
       "  <thead>\n",
       "    <tr style=\"text-align: right;\">\n",
       "      <th></th>\n",
       "      <th>count</th>\n",
       "      <th>mean</th>\n",
       "      <th>std</th>\n",
       "      <th>min</th>\n",
       "      <th>25%</th>\n",
       "      <th>50%</th>\n",
       "      <th>75%</th>\n",
       "      <th>max</th>\n",
       "    </tr>\n",
       "    <tr>\n",
       "      <th>year</th>\n",
       "      <th></th>\n",
       "      <th></th>\n",
       "      <th></th>\n",
       "      <th></th>\n",
       "      <th></th>\n",
       "      <th></th>\n",
       "      <th></th>\n",
       "      <th></th>\n",
       "    </tr>\n",
       "  </thead>\n",
       "  <tbody>\n",
       "    <tr>\n",
       "      <th>2016</th>\n",
       "      <td>11793.0</td>\n",
       "      <td>13.457278</td>\n",
       "      <td>10.752153</td>\n",
       "      <td>2.463333</td>\n",
       "      <td>2.944444</td>\n",
       "      <td>12.308889</td>\n",
       "      <td>21.766944</td>\n",
       "      <td>50.837778</td>\n",
       "    </tr>\n",
       "    <tr>\n",
       "      <th>2017</th>\n",
       "      <td>16167.0</td>\n",
       "      <td>15.629711</td>\n",
       "      <td>9.678128</td>\n",
       "      <td>0.910556</td>\n",
       "      <td>11.264444</td>\n",
       "      <td>12.103056</td>\n",
       "      <td>21.755000</td>\n",
       "      <td>59.100556</td>\n",
       "    </tr>\n",
       "    <tr>\n",
       "      <th>2018</th>\n",
       "      <td>12132.0</td>\n",
       "      <td>5.496388</td>\n",
       "      <td>5.556392</td>\n",
       "      <td>1.411389</td>\n",
       "      <td>1.907500</td>\n",
       "      <td>2.211389</td>\n",
       "      <td>7.374444</td>\n",
       "      <td>37.815278</td>\n",
       "    </tr>\n",
       "  </tbody>\n",
       "</table>\n",
       "</div>"
      ],
      "text/plain": [
       "        count       mean        std       min        25%        50%  \\\n",
       "year                                                                  \n",
       "2016  11793.0  13.457278  10.752153  2.463333   2.944444  12.308889   \n",
       "2017  16167.0  15.629711   9.678128  0.910556  11.264444  12.103056   \n",
       "2018  12132.0   5.496388   5.556392  1.411389   1.907500   2.211389   \n",
       "\n",
       "            75%        max  \n",
       "year                        \n",
       "2016  21.766944  50.837778  \n",
       "2017  21.755000  59.100556  \n",
       "2018   7.374444  37.815278  "
      ]
     },
     "execution_count": 149,
     "metadata": {},
     "output_type": "execute_result"
    }
   ],
   "source": [
    "groupedhours.describe()"
   ]
  },
  {
   "cell_type": "code",
   "execution_count": 150,
   "metadata": {
    "scrolled": true
   },
   "outputs": [
    {
     "data": {
      "image/png": "[encoded data removed]",
      "text/plain": [
       "<Figure size 432x288 with 1 Axes>"
      ]
     },
     "metadata": {
      "needs_background": "light"
     },
     "output_type": "display_data"
    }
   ],
   "source": [
    "sns.distplot(groupedhours.get_group(2018), kde=False);"
   ]
  },
  {
   "cell_type": "code",
   "execution_count": 151,
   "metadata": {},
   "outputs": [
    {
     "data": {
      "image/png": "[encoded data removed]",
      "text/plain": [
       "<Figure size 432x288 with 1 Axes>"
      ]
     },
     "metadata": {
      "needs_background": "light"
     },
     "output_type": "display_data"
    }
   ],
   "source": [
    "for year, data in groupedhours:\n",
    "    sns.kdeplot(data, label=year, cumulative=True, clip=(0, 30))"
   ]
  },
  {
   "cell_type": "code",
   "execution_count": 152,
   "metadata": {},
   "outputs": [
    {
     "data": {
      "image/png": "[encoded data removed]",
      "text/plain": [
       "<Figure size 432x288 with 1 Axes>"
      ]
     },
     "metadata": {
      "needs_background": "light"
     },
     "output_type": "display_data"
    }
   ],
   "source": [
    "for year in (2017, 2018):\n",
    "    data = groupedhours.get_group(year)\n",
    "    sns.kdeplot(data, label=year, cumulative=True, clip=(0, 30))"
   ]
  },
  {
   "cell_type": "code",
   "execution_count": null,
   "metadata": {},
   "outputs": [],
   "source": []
  }
 ],
 "metadata": {
  "kernelspec": {
   "display_name": "Python 3",
   "language": "python",
   "name": "python3"
  },
  "language_info": {
   "codemirror_mode": {
    "name": "ipython",
    "version": 3
   },
   "file_extension": ".py",
   "mimetype": "text/x-python",
   "name": "python",
   "nbconvert_exporter": "python",
   "pygments_lexer": "ipython3",
   "version": "3.6.5"
  }
 },
 "nbformat": 4,
 "nbformat_minor": 2
}
