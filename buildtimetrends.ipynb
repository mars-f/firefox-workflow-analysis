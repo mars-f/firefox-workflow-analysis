{
 "cells": [
  {
   "cell_type": "markdown",
   "metadata": {},
   "source": [
    "# Firefox engineering mc-to-nightly time trends\n",
    "\n",
    "Has the time from when a changeset is commited to the mozilla-central code repository until it is available for download in a nightly build changed significantly over the last three years?"
   ]
  },
  {
   "cell_type": "code",
   "execution_count": 1,
   "metadata": {},
   "outputs": [],
   "source": [
    "import pandas as pd\n",
    "import seaborn as sns\n",
    "\n",
    "sns.set_style(\"darkgrid\")"
   ]
  },
  {
   "cell_type": "markdown",
   "metadata": {},
   "source": [
    "We'll use a 3 month block, January to March in 2016, 2017, and 2018.  This should eliminate any large month-to-month effects.  The data should also be consistant because no major team event happens during these months."
   ]
  },
  {
   "cell_type": "code",
   "execution_count": 2,
   "metadata": {},
   "outputs": [],
   "source": [
    "files = ['data/nightly-{}{}.parq'.format(y, m)\n",
    "         for y in (2016, 2017, 2018) \n",
    "         for m in ('01', '02', '03')]"
   ]
  },
  {
   "cell_type": "code",
   "execution_count": 3,
   "metadata": {},
   "outputs": [
    {
     "data": {
      "text/plain": [
       "(40092, 8)"
      ]
     },
     "execution_count": 3,
     "metadata": {},
     "output_type": "execute_result"
    }
   ],
   "source": [
    "df = pd.concat([pd.read_parquet(fn) for fn in files], ignore_index=True)\n",
    "df.shape"
   ]
  },
  {
   "cell_type": "code",
   "execution_count": 4,
   "metadata": {},
   "outputs": [],
   "source": [
    "df['year'] = df['nightly_publish_time'].dt.year"
   ]
  },
  {
   "cell_type": "markdown",
   "metadata": {},
   "source": [
    "Localize the push time to UTC so it can be compared with other times."
   ]
  },
  {
   "cell_type": "code",
   "execution_count": 5,
   "metadata": {},
   "outputs": [],
   "source": [
    "df['changeset_pushtime'] = df['changeset_pushtime'].dt.tz_localize('UTC')"
   ]
  },
  {
   "cell_type": "code",
   "execution_count": 6,
   "metadata": {},
   "outputs": [
    {
     "data": {
      "text/plain": [
       "year\n",
       "2016    11793\n",
       "2017    16167\n",
       "2018    12132\n",
       "dtype: int64"
      ]
     },
     "execution_count": 6,
     "metadata": {},
     "output_type": "execute_result"
    }
   ],
   "source": [
    "df.groupby('year').size()"
   ]
  },
  {
   "cell_type": "code",
   "execution_count": 7,
   "metadata": {},
   "outputs": [
    {
     "name": "stdout",
     "output_type": "stream",
     "text": [
      "Number of unique builds per year\n"
     ]
    },
    {
     "data": {
      "text/plain": [
       "year\n",
       "2016     85\n",
       "2017     88\n",
       "2018    167\n",
       "Name: nightly_build_id, dtype: int64"
      ]
     },
     "execution_count": 7,
     "metadata": {},
     "output_type": "execute_result"
    }
   ],
   "source": [
    "print(\"Number of unique builds per year\")\n",
    "df.groupby('year')['nightly_build_id'].nunique()"
   ]
  },
  {
   "cell_type": "markdown",
   "metadata": {},
   "source": [
    "Calculate the number of hours from a changeset being pushed to mozilla-central until the time the changeset was published as a nightly build."
   ]
  },
  {
   "cell_type": "code",
   "execution_count": 8,
   "metadata": {},
   "outputs": [
    {
     "data": {
      "text/plain": [
       "count    40092.000000\n",
       "mean        11.924309\n",
       "std          9.992328\n",
       "min          0.910556\n",
       "25%          2.797222\n",
       "50%         11.264444\n",
       "75%         16.618333\n",
       "max         59.100556\n",
       "Name: hours, dtype: float64"
      ]
     },
     "execution_count": 8,
     "metadata": {},
     "output_type": "execute_result"
    }
   ],
   "source": [
    "df['push_to_publish'] = df['nightly_publish_time'] - df['changeset_pushtime']\n",
    "df['hours'] = df['push_to_publish'].dt.total_seconds() / 3600\n",
    "df['hours'].describe()"
   ]
  },
  {
   "cell_type": "markdown",
   "metadata": {},
   "source": [
    "Pushes are done in batches.  When we calculate the hours from push-to-publish we want to take just the first changeset in the batch of pushes as representative of all changesets in that push batch."
   ]
  },
  {
   "cell_type": "code",
   "execution_count": 9,
   "metadata": {},
   "outputs": [],
   "source": [
    "# Builds can have multiple changesets.  Changesets are all members of the same pushid.\n",
    "# Take only the build time in one record for each push.\n",
    "pushes = df.groupby(['year', 'changeset_pushid']).first()\n",
    "groupedhours = pushes.groupby('year')['hours']"
   ]
  },
  {
   "cell_type": "code",
   "execution_count": 10,
   "metadata": {},
   "outputs": [
    {
     "data": {
      "text/html": [
       "<div>\n",
       "<style scoped>\n",
       "    .dataframe tbody tr th:only-of-type {\n",
       "        vertical-align: middle;\n",
       "    }\n",
       "\n",
       "    .dataframe tbody tr th {\n",
       "        vertical-align: top;\n",
       "    }\n",
       "\n",
       "    .dataframe thead th {\n",
       "        text-align: right;\n",
       "    }\n",
       "</style>\n",
       "<table border=\"1\" class=\"dataframe\">\n",
       "  <thead>\n",
       "    <tr style=\"text-align: right;\">\n",
       "      <th></th>\n",
       "      <th>count</th>\n",
       "      <th>mean</th>\n",
       "      <th>std</th>\n",
       "      <th>min</th>\n",
       "      <th>25%</th>\n",
       "      <th>50%</th>\n",
       "      <th>75%</th>\n",
       "      <th>max</th>\n",
       "    </tr>\n",
       "    <tr>\n",
       "      <th>year</th>\n",
       "      <th></th>\n",
       "      <th></th>\n",
       "      <th></th>\n",
       "      <th></th>\n",
       "      <th></th>\n",
       "      <th></th>\n",
       "      <th></th>\n",
       "      <th></th>\n",
       "    </tr>\n",
       "  </thead>\n",
       "  <tbody>\n",
       "    <tr>\n",
       "      <th>2016</th>\n",
       "      <td>270.0</td>\n",
       "      <td>13.456762</td>\n",
       "      <td>9.734639</td>\n",
       "      <td>2.463333</td>\n",
       "      <td>3.048125</td>\n",
       "      <td>12.654028</td>\n",
       "      <td>21.361042</td>\n",
       "      <td>50.837778</td>\n",
       "    </tr>\n",
       "    <tr>\n",
       "      <th>2017</th>\n",
       "      <td>348.0</td>\n",
       "      <td>15.272981</td>\n",
       "      <td>9.664937</td>\n",
       "      <td>0.910556</td>\n",
       "      <td>10.111181</td>\n",
       "      <td>13.267500</td>\n",
       "      <td>21.227222</td>\n",
       "      <td>59.100556</td>\n",
       "    </tr>\n",
       "    <tr>\n",
       "      <th>2018</th>\n",
       "      <td>483.0</td>\n",
       "      <td>6.022487</td>\n",
       "      <td>6.067337</td>\n",
       "      <td>1.411389</td>\n",
       "      <td>1.935694</td>\n",
       "      <td>2.598611</td>\n",
       "      <td>8.819861</td>\n",
       "      <td>37.815278</td>\n",
       "    </tr>\n",
       "  </tbody>\n",
       "</table>\n",
       "</div>"
      ],
      "text/plain": [
       "      count       mean       std       min        25%        50%        75%  \\\n",
       "year                                                                          \n",
       "2016  270.0  13.456762  9.734639  2.463333   3.048125  12.654028  21.361042   \n",
       "2017  348.0  15.272981  9.664937  0.910556  10.111181  13.267500  21.227222   \n",
       "2018  483.0   6.022487  6.067337  1.411389   1.935694   2.598611   8.819861   \n",
       "\n",
       "            max  \n",
       "year             \n",
       "2016  50.837778  \n",
       "2017  59.100556  \n",
       "2018  37.815278  "
      ]
     },
     "execution_count": 10,
     "metadata": {},
     "output_type": "execute_result"
    }
   ],
   "source": [
    "groupedhours.describe()"
   ]
  },
  {
   "cell_type": "code",
   "execution_count": 11,
   "metadata": {
    "scrolled": true
   },
   "outputs": [
    {
     "data": {
      "image/png": "[encoded data removed]",
      "text/plain": [
       "<Figure size 432x288 with 1 Axes>"
      ]
     },
     "metadata": {
      "needs_background": "light"
     },
     "output_type": "display_data"
    }
   ],
   "source": [
    "ax = sns.distplot(groupedhours.get_group(2018), kde=False)\n",
    "ax.set(xlabel=\"push to publish (hours)\", ylabel=\"number of pushes\");"
   ]
  },
  {
   "cell_type": "markdown",
   "metadata": {},
   "source": [
    "Is there a noticable change across years?\n",
    "\n",
    "We can compare years using a cumulative distribution function.\n",
    "\n",
    "We can see that build times were similar, or even slightly worse, from Jan-Mar 2016 and Jan-Mar 2017.  "
   ]
  },
  {
   "cell_type": "code",
   "execution_count": 12,
   "metadata": {},
   "outputs": [
    {
     "data": {
      "image/png": "[encoded data removed]",
      "text/plain": [
       "<Figure size 432x288 with 1 Axes>"
      ]
     },
     "metadata": {
      "needs_background": "light"
     },
     "output_type": "display_data"
    }
   ],
   "source": [
    "for year, data in groupedhours:\n",
    "    ax = sns.kdeplot(data, label=year, cumulative=True, clip=(0, 30))\n",
    "    ax.set(xlabel=\"push to publish (hours)\", ylabel=\"% of pushes that took this long\")"
   ]
  },
  {
   "cell_type": "markdown",
   "metadata": {},
   "source": [
    "We can see an even clearer difference in the build time trends if we compare the build times from Jan-Mar 2017 to Jan-Mar 2018."
   ]
  },
  {
   "cell_type": "code",
   "execution_count": 13,
   "metadata": {},
   "outputs": [
    {
     "data": {
      "image/png": "[encoded data removed]",
      "text/plain": [
       "<Figure size 432x288 with 1 Axes>"
      ]
     },
     "metadata": {
      "needs_background": "light"
     },
     "output_type": "display_data"
    }
   ],
   "source": [
    "for year in (2017, 2018):\n",
    "    data = groupedhours.get_group(year)\n",
    "    ax = sns.kdeplot(data, label=year, cumulative=True, clip=(0, 30))\n",
    "    ax.set(xlabel=\"push to publish (hours)\", ylabel=\"% of pushes that took this long\")"
   ]
  },
  {
   "cell_type": "code",
   "execution_count": null,
   "metadata": {},
   "outputs": [],
   "source": []
  }
 ],
 "metadata": {
  "kernelspec": {
   "display_name": "Python 3",
   "language": "python",
   "name": "python3"
  },
  "language_info": {
   "codemirror_mode": {
    "name": "ipython",
    "version": 3
   },
   "file_extension": ".py",
   "mimetype": "text/x-python",
   "name": "python",
   "nbconvert_exporter": "python",
   "pygments_lexer": "ipython3",
   "version": "3.6.5"
  }
 },
 "nbformat": 4,
 "nbformat_minor": 2
}
