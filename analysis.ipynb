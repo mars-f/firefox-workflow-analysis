{
 "cells": [
  {
   "cell_type": "markdown",
   "metadata": {},
   "source": [
    "# Analyzing the Firefox Engineering Workflow Data"
   ]
  },
  {
   "cell_type": "code",
   "execution_count": 3,
   "metadata": {},
   "outputs": [
    {
     "name": "stdout",
     "output_type": "stream",
     "text": [
      "[{'bug': 1519107,\n",
      "  'bug_creation_ts': datetime.datetime(2019, 1, 10, 14, 32, 35, tzinfo=tzutc()),\n",
      "  'flow_time': datetime.timedelta(11, 78257),\n",
      "  'published_ts': datetime.datetime(2019, 1, 22, 12, 16, 52, tzinfo=tzutc()),\n",
      "  'rev': 'd532474e710f8a58ab10a2702dca432bc2eefa69'},\n",
      " {'bug': 1519107,\n",
      "  'bug_creation_ts': datetime.datetime(2019, 1, 10, 14, 32, 35, tzinfo=tzutc()),\n",
      "  'flow_time': datetime.timedelta(11, 78257),\n",
      "  'published_ts': datetime.datetime(2019, 1, 22, 12, 16, 52, tzinfo=tzutc()),\n",
      "  'rev': 'c367b5259d4683c8d7fcf7efdda68f6ca93f9913'},\n",
      " {'bug': 1519107,\n",
      "  'bug_creation_ts': datetime.datetime(2019, 1, 10, 14, 32, 35, tzinfo=tzutc()),\n",
      "  'flow_time': datetime.timedelta(11, 78257),\n",
      "  'published_ts': datetime.datetime(2019, 1, 22, 12, 16, 52, tzinfo=tzutc()),\n",
      "  'rev': '05ab29790c5718f31d2910f8728af5f742eaf14d'},\n",
      " {'bug': 1493184,\n",
      "  'bug_creation_ts': datetime.datetime(2018, 9, 21, 14, 47, 25, tzinfo=tzutc()),\n",
      "  'flow_time': datetime.timedelta(122, 77367),\n",
      "  'published_ts': datetime.datetime(2019, 1, 22, 12, 16, 52, tzinfo=tzutc()),\n",
      "  'rev': 'f833d5220c821a2c19c60c6ac5378c677bebbe71'},\n",
      " {'bug': 1521518,\n",
      "  'bug_creation_ts': datetime.datetime(2019, 1, 21, 14, 28, 56, tzinfo=tzutc()),\n",
      "  'flow_time': datetime.timedelta(0, 78476),\n",
      "  'published_ts': datetime.datetime(2019, 1, 22, 12, 16, 52, tzinfo=tzutc()),\n",
      "  'rev': '88b4f92e2197c7478923e9d399adb62ed6f415ef'}]\n"
     ]
    }
   ],
   "source": [
    "import datetime\n",
    "import json\n",
    "from dateutil import parser\n",
    "from pprint import pprint\n",
    "\n",
    "\n",
    "def parse_record(record):\n",
    "    # Parse a JSON workflow data record\n",
    "    return dict(\n",
    "        bug=record[\"bug\"],\n",
    "        bug_creation_ts=parser.parse(record[\"bug_creation_ts\"]),\n",
    "        rev=record[\"rev\"],\n",
    "        published_ts=parser.parse(record[\"published_ts\"]),\n",
    "        flow_time=datetime.timedelta(seconds=record[\"flow_time\"])\n",
    "    )\n",
    "\n",
    "\n",
    "events = json.load(open(\"data/flowdata.json\"), object_hook=parse_record)\n",
    "pprint(events[0:5])"
   ]
  },
  {
   "cell_type": "code",
   "execution_count": 54,
   "metadata": {},
   "outputs": [
    {
     "data": {
      "text/plain": [
       "172689993.0"
      ]
     },
     "execution_count": 54,
     "metadata": {},
     "output_type": "execute_result"
    }
   ],
   "source": [
    "import pandas as pd\n",
    "import seaborn as sns\n",
    "\n",
    "df = pd.DataFrame(events)\n",
    "df.head()\n",
    "seconds_duration = df[\"flow_time\"].dt.total_seconds()\n",
    "seconds_duration.head()\n",
    "seconds_duration.max()"
   ]
  },
  {
   "cell_type": "markdown",
   "metadata": {},
   "source": [
    "Dump any outliers"
   ]
  },
  {
   "cell_type": "code",
   "execution_count": 55,
   "metadata": {},
   "outputs": [
    {
     "data": {
      "text/plain": [
       "59397815.333333336"
      ]
     },
     "execution_count": 55,
     "metadata": {},
     "output_type": "execute_result"
    }
   ],
   "source": [
    "seconds_duration = seconds_duration.rolling(3).mean()\n",
    "seconds_duration.dropna(inplace=True)\n",
    "seconds_duration.max()"
   ]
  },
  {
   "cell_type": "code",
   "execution_count": 56,
   "metadata": {},
   "outputs": [
    {
     "data": {
      "text/plain": [
       "Text(0.5, 0, 'lead time (days)')"
      ]
     },
     "execution_count": 56,
     "metadata": {},
     "output_type": "execute_result"
    },
    {
     "data": {
      "image/png": "[encoded data removed]",
      "text/plain": [
       "<Figure size 432x288 with 1 Axes>"
      ]
     },
     "metadata": {
      "needs_background": "light"
     },
     "output_type": "display_data"
    }
   ],
   "source": [
    "days_duration = seconds_duration.apply(lambda x: x / (3600 * 24))\n",
    "g = sns.distplot(days_duration, kde=False, rug=True)\n",
    "g.set_xlabel(\"lead time (days)\")"
   ]
  },
  {
   "cell_type": "code",
   "execution_count": 57,
   "metadata": {},
   "outputs": [
    {
     "data": {
      "text/plain": [
       "count     86.000000\n",
       "mean      85.062216\n",
       "std      149.713241\n",
       "min        0.772728\n",
       "25%        9.010214\n",
       "50%       33.205554\n",
       "75%       77.583051\n",
       "90%      199.255559\n",
       "95%      474.789171\n",
       "max      687.474715\n",
       "Name: flow_time, dtype: float64"
      ]
     },
     "execution_count": 57,
     "metadata": {},
     "output_type": "execute_result"
    }
   ],
   "source": [
    "days_duration.describe(percentiles=[0.25, 0.5, 0.75, 0.90, 0.95])"
   ]
  },
  {
   "cell_type": "markdown",
   "metadata": {},
   "source": [
    "Let's grab the landings within one standard deviation of the mean to see what a typical timeline looks like."
   ]
  },
  {
   "cell_type": "code",
   "execution_count": 64,
   "metadata": {},
   "outputs": [
    {
     "data": {
      "text/plain": [
       "count     79.000000\n",
       "mean      44.619471\n",
       "std       50.122547\n",
       "min        0.772728\n",
       "25%        8.436350\n",
       "50%       27.736705\n",
       "75%       55.762946\n",
       "max      226.259171\n",
       "Name: flow_time, dtype: float64"
      ]
     },
     "execution_count": 64,
     "metadata": {},
     "output_type": "execute_result"
    }
   ],
   "source": [
    "durations = days_duration.where(days_duration < (days_duration.mean() + days_duration.std()))\n",
    "durations.dropna(inplace=True)\n",
    "durations.describe()"
   ]
  },
  {
   "cell_type": "code",
   "execution_count": 65,
   "metadata": {},
   "outputs": [
    {
     "data": {
      "text/plain": [
       "Text(0.5, 0, 'lead time (days)')"
      ]
     },
     "execution_count": 65,
     "metadata": {},
     "output_type": "execute_result"
    },
    {
     "data": {
      "image/png": "[encoded data removed]",
      "text/plain": [
       "<Figure size 432x288 with 1 Axes>"
      ]
     },
     "metadata": {
      "needs_background": "light"
     },
     "output_type": "display_data"
    }
   ],
   "source": [
    "g = sns.distplot(durations, kde=False, rug=True)\n",
    "g.set_xlabel(\"lead time (days)\")"
   ]
  },
  {
   "cell_type": "code",
   "execution_count": null,
   "metadata": {},
   "outputs": [],
   "source": []
  }
 ],
 "metadata": {
  "kernelspec": {
   "display_name": "Python 3",
   "language": "python",
   "name": "python3"
  },
  "language_info": {
   "codemirror_mode": {
    "name": "ipython",
    "version": 3
   },
   "file_extension": ".py",
   "mimetype": "text/x-python",
   "name": "python",
   "nbconvert_exporter": "python",
   "pygments_lexer": "ipython3",
   "version": "3.6.5"
  }
 },
 "nbformat": 4,
 "nbformat_minor": 2
}
