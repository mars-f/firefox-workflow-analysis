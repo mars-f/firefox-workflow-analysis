{
 "cells": [
  {
   "cell_type": "markdown",
   "metadata": {},
   "source": [
    "# Analyzing the Firefox Engineering Workflow Data"
   ]
  },
  {
   "cell_type": "code",
   "execution_count": 1,
   "metadata": {},
   "outputs": [],
   "source": [
    "import pandas as pd\n",
    "import seaborn as sns"
   ]
  },
  {
   "cell_type": "code",
   "execution_count": 24,
   "metadata": {},
   "outputs": [],
   "source": [
    "df = pd.read_parquet('data/nightly-20190122094123.parq')"
   ]
  },
  {
   "cell_type": "code",
   "execution_count": 25,
   "metadata": {},
   "outputs": [
    {
     "data": {
      "text/html": [
       "<div>\n",
       "<style scoped>\n",
       "    .dataframe tbody tr th:only-of-type {\n",
       "        vertical-align: middle;\n",
       "    }\n",
       "\n",
       "    .dataframe tbody tr th {\n",
       "        vertical-align: top;\n",
       "    }\n",
       "\n",
       "    .dataframe thead th {\n",
       "        text-align: right;\n",
       "    }\n",
       "</style>\n",
       "<table border=\"1\" class=\"dataframe\">\n",
       "  <thead>\n",
       "    <tr style=\"text-align: right;\">\n",
       "      <th></th>\n",
       "      <th>changeset</th>\n",
       "      <th>changeset_pushid</th>\n",
       "      <th>changeset_desc</th>\n",
       "      <th>bug_id</th>\n",
       "      <th>nightly_build_id</th>\n",
       "      <th>nightly_publish_time</th>\n",
       "      <th>changeset_pushtime</th>\n",
       "      <th>bug_creation_time</th>\n",
       "    </tr>\n",
       "  </thead>\n",
       "  <tbody>\n",
       "    <tr>\n",
       "      <th>1</th>\n",
       "      <td>d532474e710f8a58ab10a2702dca432bc2eefa69</td>\n",
       "      <td>35411</td>\n",
       "      <td>Bug 1519107 - make evaluateJS calls use promis...</td>\n",
       "      <td>1519107</td>\n",
       "      <td>20190122094123</td>\n",
       "      <td>2019-01-22 12:16:52</td>\n",
       "      <td>2019-01-22 03:53:40</td>\n",
       "      <td>2019-01-10 14:32:35</td>\n",
       "    </tr>\n",
       "    <tr>\n",
       "      <th>2</th>\n",
       "      <td>c367b5259d4683c8d7fcf7efdda68f6ca93f9913</td>\n",
       "      <td>35411</td>\n",
       "      <td>Bug 1519107 - use promise pattern for getCache...</td>\n",
       "      <td>1519107</td>\n",
       "      <td>20190122094123</td>\n",
       "      <td>2019-01-22 12:16:52</td>\n",
       "      <td>2019-01-22 03:53:40</td>\n",
       "      <td>2019-01-10 14:32:35</td>\n",
       "    </tr>\n",
       "    <tr>\n",
       "      <th>3</th>\n",
       "      <td>05ab29790c5718f31d2910f8728af5f742eaf14d</td>\n",
       "      <td>35411</td>\n",
       "      <td>Bug 1519107 - use promise pattern for other we...</td>\n",
       "      <td>1519107</td>\n",
       "      <td>20190122094123</td>\n",
       "      <td>2019-01-22 12:16:52</td>\n",
       "      <td>2019-01-22 03:53:40</td>\n",
       "      <td>2019-01-10 14:32:35</td>\n",
       "    </tr>\n",
       "    <tr>\n",
       "      <th>4</th>\n",
       "      <td>f833d5220c821a2c19c60c6ac5378c677bebbe71</td>\n",
       "      <td>35411</td>\n",
       "      <td>Bug 1521279 - Update Fluent migration document...</td>\n",
       "      <td>1521279</td>\n",
       "      <td>20190122094123</td>\n",
       "      <td>2019-01-22 12:16:52</td>\n",
       "      <td>2019-01-22 03:53:40</td>\n",
       "      <td>2019-01-19 08:11:08</td>\n",
       "    </tr>\n",
       "    <tr>\n",
       "      <th>5</th>\n",
       "      <td>88b4f92e2197c7478923e9d399adb62ed6f415ef</td>\n",
       "      <td>35411</td>\n",
       "      <td>Bug 1521518 - Update image to 0.21 r=kats\\n\\nD...</td>\n",
       "      <td>1521518</td>\n",
       "      <td>20190122094123</td>\n",
       "      <td>2019-01-22 12:16:52</td>\n",
       "      <td>2019-01-22 03:53:40</td>\n",
       "      <td>2019-01-21 14:28:56</td>\n",
       "    </tr>\n",
       "  </tbody>\n",
       "</table>\n",
       "</div>"
      ],
      "text/plain": [
       "                                  changeset changeset_pushid  \\\n",
       "1  d532474e710f8a58ab10a2702dca432bc2eefa69            35411   \n",
       "2  c367b5259d4683c8d7fcf7efdda68f6ca93f9913            35411   \n",
       "3  05ab29790c5718f31d2910f8728af5f742eaf14d            35411   \n",
       "4  f833d5220c821a2c19c60c6ac5378c677bebbe71            35411   \n",
       "5  88b4f92e2197c7478923e9d399adb62ed6f415ef            35411   \n",
       "\n",
       "                                      changeset_desc   bug_id  \\\n",
       "1  Bug 1519107 - make evaluateJS calls use promis...  1519107   \n",
       "2  Bug 1519107 - use promise pattern for getCache...  1519107   \n",
       "3  Bug 1519107 - use promise pattern for other we...  1519107   \n",
       "4  Bug 1521279 - Update Fluent migration document...  1521279   \n",
       "5  Bug 1521518 - Update image to 0.21 r=kats\\n\\nD...  1521518   \n",
       "\n",
       "  nightly_build_id nightly_publish_time  changeset_pushtime  \\\n",
       "1   20190122094123  2019-01-22 12:16:52 2019-01-22 03:53:40   \n",
       "2   20190122094123  2019-01-22 12:16:52 2019-01-22 03:53:40   \n",
       "3   20190122094123  2019-01-22 12:16:52 2019-01-22 03:53:40   \n",
       "4   20190122094123  2019-01-22 12:16:52 2019-01-22 03:53:40   \n",
       "5   20190122094123  2019-01-22 12:16:52 2019-01-22 03:53:40   \n",
       "\n",
       "    bug_creation_time  \n",
       "1 2019-01-10 14:32:35  \n",
       "2 2019-01-10 14:32:35  \n",
       "3 2019-01-10 14:32:35  \n",
       "4 2019-01-19 08:11:08  \n",
       "5 2019-01-21 14:28:56  "
      ]
     },
     "execution_count": 25,
     "metadata": {},
     "output_type": "execute_result"
    }
   ],
   "source": [
    "df.head()"
   ]
  },
  {
   "cell_type": "markdown",
   "metadata": {},
   "source": [
    "*Lead Time* is the total time a work item is in process, including the time up-front when we are waiting for work to start.\n",
    "\n",
    "We will assume that the bug creation time is when the work was queued but not started (or started very soon after)."
   ]
  },
  {
   "cell_type": "code",
   "execution_count": 26,
   "metadata": {},
   "outputs": [],
   "source": [
    "df['lead_time'] = df['nightly_publish_time'] - df['bug_creation_time']"
   ]
  },
  {
   "cell_type": "code",
   "execution_count": 27,
   "metadata": {},
   "outputs": [
    {
     "data": {
      "text/plain": [
       "Timedelta('1998 days 17:26:33')"
      ]
     },
     "execution_count": 27,
     "metadata": {},
     "output_type": "execute_result"
    }
   ],
   "source": [
    "df['lead_time'].max()"
   ]
  },
  {
   "cell_type": "markdown",
   "metadata": {},
   "source": [
    "Clean up some of our outliers."
   ]
  },
  {
   "cell_type": "code",
   "execution_count": 30,
   "metadata": {},
   "outputs": [],
   "source": [
    "lead_time_s = df['lead_time'].dt.total_seconds().rolling(3).mean()"
   ]
  },
  {
   "cell_type": "code",
   "execution_count": 31,
   "metadata": {},
   "outputs": [],
   "source": [
    "lead_time_s = lead_time_s.dropna()"
   ]
  },
  {
   "cell_type": "code",
   "execution_count": 37,
   "metadata": {},
   "outputs": [
    {
     "data": {
      "text/plain": [
       "count                          88\n",
       "mean      79 days 13:47:19.465909\n",
       "std      259 days 15:49:24.295934\n",
       "min               0 days 08:23:13\n",
       "25%        3 days 17:54:17.250000\n",
       "50%       12 days 01:12:54.500000\n",
       "75%              54 days 00:41:27\n",
       "max            1998 days 17:26:33\n",
       "Name: lead_time, dtype: object"
      ]
     },
     "execution_count": 37,
     "metadata": {},
     "output_type": "execute_result"
    }
   ],
   "source": [
    "df['lead_time'].describe()"
   ]
  },
  {
   "cell_type": "code",
   "execution_count": 39,
   "metadata": {},
   "outputs": [
    {
     "data": {
      "text/plain": [
       "172689993.0"
      ]
     },
     "execution_count": 39,
     "metadata": {},
     "output_type": "execute_result"
    }
   ],
   "source": [
    "df['lead_time'].max().total_seconds()"
   ]
  },
  {
   "cell_type": "code",
   "execution_count": 40,
   "metadata": {},
   "outputs": [
    {
     "data": {
      "text/plain": [
       "58807094.333333336"
      ]
     },
     "execution_count": 40,
     "metadata": {},
     "output_type": "execute_result"
    }
   ],
   "source": [
    "lead_time_s.max()"
   ]
  },
  {
   "cell_type": "code",
   "execution_count": 45,
   "metadata": {},
   "outputs": [],
   "source": [
    "lead_time_days = lead_time_s / ((3600) * 24)"
   ]
  },
  {
   "cell_type": "code",
   "execution_count": 46,
   "metadata": {},
   "outputs": [
    {
     "data": {
      "text/plain": [
       "Text(0.5, 0, 'lead time (days)')"
      ]
     },
     "execution_count": 46,
     "metadata": {},
     "output_type": "execute_result"
    },
    {
     "data": {
      "image/png": "[encoded data removed]",
      "text/plain": [
       "<Figure size 432x288 with 1 Axes>"
      ]
     },
     "metadata": {
      "needs_background": "light"
     },
     "output_type": "display_data"
    }
   ],
   "source": [
    "g = sns.distplot(lead_time_days, kde=False, rug=True)\n",
    "g.set_xlabel(\"lead time (days)\")"
   ]
  },
  {
   "cell_type": "code",
   "execution_count": 47,
   "metadata": {},
   "outputs": [
    {
     "data": {
      "text/plain": [
       "count     86.000000\n",
       "mean      80.785528\n",
       "std      149.858849\n",
       "min        0.772728\n",
       "25%        7.737283\n",
       "50%       25.235002\n",
       "75%       74.349691\n",
       "90%      199.255559\n",
       "95%      474.789171\n",
       "max      680.637666\n",
       "Name: lead_time, dtype: float64"
      ]
     },
     "execution_count": 47,
     "metadata": {},
     "output_type": "execute_result"
    }
   ],
   "source": [
    "lead_time_days.describe(percentiles=[0.25, 0.5, 0.75, 0.90, 0.95])"
   ]
  },
  {
   "cell_type": "markdown",
   "metadata": {},
   "source": [
    "Let's grab the landings within one standard deviation of the mean to see what a typical timeline looks like."
   ]
  },
  {
   "cell_type": "code",
   "execution_count": 48,
   "metadata": {},
   "outputs": [
    {
     "data": {
      "text/plain": [
       "count     79.000000\n",
       "mean      40.290048\n",
       "std       50.980747\n",
       "min        0.772728\n",
       "25%        7.293765\n",
       "50%       24.540822\n",
       "75%       44.434149\n",
       "max      226.259171\n",
       "Name: lead_time, dtype: float64"
      ]
     },
     "execution_count": 48,
     "metadata": {},
     "output_type": "execute_result"
    }
   ],
   "source": [
    "durations = lead_time_days.where(lead_time_days < (lead_time_days.mean() + lead_time_days.std()))\n",
    "durations = durations.dropna()\n",
    "durations.describe()"
   ]
  },
  {
   "cell_type": "code",
   "execution_count": 49,
   "metadata": {},
   "outputs": [
    {
     "data": {
      "text/plain": [
       "Text(0.5, 0, 'lead time (days)')"
      ]
     },
     "execution_count": 49,
     "metadata": {},
     "output_type": "execute_result"
    },
    {
     "data": {
      "image/png": "[encoded data removed]",
      "text/plain": [
       "<Figure size 432x288 with 1 Axes>"
      ]
     },
     "metadata": {
      "needs_background": "light"
     },
     "output_type": "display_data"
    }
   ],
   "source": [
    "g = sns.distplot(durations, kde=False, rug=True)\n",
    "g.set_xlabel(\"lead time (days)\")"
   ]
  },
  {
   "cell_type": "code",
   "execution_count": null,
   "metadata": {},
   "outputs": [],
   "source": []
  }
 ],
 "metadata": {
  "kernelspec": {
   "display_name": "Python 3",
   "language": "python",
   "name": "python3"
  },
  "language_info": {
   "codemirror_mode": {
    "name": "ipython",
    "version": 3
   },
   "file_extension": ".py",
   "mimetype": "text/x-python",
   "name": "python",
   "nbconvert_exporter": "python",
   "pygments_lexer": "ipython3",
   "version": "3.6.5"
  }
 },
 "nbformat": 4,
 "nbformat_minor": 2
}
