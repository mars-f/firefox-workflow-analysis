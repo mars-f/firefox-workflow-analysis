{
 "cells": [
  {
   "cell_type": "markdown",
   "metadata": {},
   "source": [
    "# Analyzing the Firefox Engineering Workflow Data"
   ]
  },
  {
   "cell_type": "code",
   "execution_count": 132,
   "metadata": {},
   "outputs": [],
   "source": [
    "import pandas as pd\n",
    "import seaborn as sns"
   ]
  },
  {
   "cell_type": "code",
   "execution_count": 133,
   "metadata": {},
   "outputs": [],
   "source": [
    "files = ['data/nightly-{}10.parq'.format(y) for y in range(2010, 2019)]"
   ]
  },
  {
   "cell_type": "code",
   "execution_count": 134,
   "metadata": {},
   "outputs": [
    {
     "data": {
      "text/plain": [
       "(32007, 8)"
      ]
     },
     "execution_count": 134,
     "metadata": {},
     "output_type": "execute_result"
    }
   ],
   "source": [
    "df = pd.concat([pd.read_parquet(fn) for fn in files], ignore_index=True)\n",
    "df.shape"
   ]
  },
  {
   "cell_type": "code",
   "execution_count": 135,
   "metadata": {},
   "outputs": [
    {
     "data": {
      "text/html": [
       "<div>\n",
       "<style scoped>\n",
       "    .dataframe tbody tr th:only-of-type {\n",
       "        vertical-align: middle;\n",
       "    }\n",
       "\n",
       "    .dataframe tbody tr th {\n",
       "        vertical-align: top;\n",
       "    }\n",
       "\n",
       "    .dataframe thead th {\n",
       "        text-align: right;\n",
       "    }\n",
       "</style>\n",
       "<table border=\"1\" class=\"dataframe\">\n",
       "  <thead>\n",
       "    <tr style=\"text-align: right;\">\n",
       "      <th></th>\n",
       "      <th>changeset</th>\n",
       "      <th>changeset_desc</th>\n",
       "      <th>changeset_pushid</th>\n",
       "      <th>changeset_pushtime</th>\n",
       "      <th>bug</th>\n",
       "      <th>bug_creation_time</th>\n",
       "      <th>nightly_build_id</th>\n",
       "      <th>nightly_publish_time</th>\n",
       "    </tr>\n",
       "  </thead>\n",
       "  <tbody>\n",
       "    <tr>\n",
       "      <th>0</th>\n",
       "      <td>fdf8b40547652aff7a5162f526935f7a935b7dd9</td>\n",
       "      <td>Bug 608416: Stop exceptions from cleanup funct...</td>\n",
       "      <td>16660</td>\n",
       "      <td>2010-10-30 18:59:52</td>\n",
       "      <td>608416.0</td>\n",
       "      <td>2010-10-29 22:17:37</td>\n",
       "      <td>20101031030736</td>\n",
       "      <td>2015-10-10 02:36:19+00:00</td>\n",
       "    </tr>\n",
       "    <tr>\n",
       "      <th>1</th>\n",
       "      <td>97ea3fe9232ad06d4e5e2282f8f8f932f8975235</td>\n",
       "      <td>bug 608422 - cookies.sqlite-wal takes too much...</td>\n",
       "      <td>16661</td>\n",
       "      <td>2010-10-31 02:35:13</td>\n",
       "      <td>608422.0</td>\n",
       "      <td>2010-10-29 22:41:34</td>\n",
       "      <td>20101031030736</td>\n",
       "      <td>2015-10-10 02:36:19+00:00</td>\n",
       "    </tr>\n",
       "    <tr>\n",
       "      <th>2</th>\n",
       "      <td>de32b6e1ca006bb985a4f4afd80f2c46548af68c</td>\n",
       "      <td>Fix for bug 606705 (Browser crash when using m...</td>\n",
       "      <td>16662</td>\n",
       "      <td>2010-10-31 04:37:53</td>\n",
       "      <td>606705.0</td>\n",
       "      <td>2010-10-23 20:19:55</td>\n",
       "      <td>20101031030736</td>\n",
       "      <td>2015-10-10 02:36:19+00:00</td>\n",
       "    </tr>\n",
       "    <tr>\n",
       "      <th>3</th>\n",
       "      <td>05e775f368f88d34e30fa6fdfba2ef378f75e944</td>\n",
       "      <td>Disallow sending JS functions to a different t...</td>\n",
       "      <td>16663</td>\n",
       "      <td>2010-10-31 05:12:52</td>\n",
       "      <td>608142.0</td>\n",
       "      <td>2010-10-28 23:20:54</td>\n",
       "      <td>20101031030736</td>\n",
       "      <td>2015-10-10 02:36:19+00:00</td>\n",
       "    </tr>\n",
       "    <tr>\n",
       "      <th>4</th>\n",
       "      <td>67dd5fbeebaaa27522897a4c10cf81b96a05d562</td>\n",
       "      <td>Follow-up for bug 608142: disallow sending bet...</td>\n",
       "      <td>16663</td>\n",
       "      <td>2010-10-31 05:12:52</td>\n",
       "      <td>608142.0</td>\n",
       "      <td>2010-10-28 23:20:54</td>\n",
       "      <td>20101031030736</td>\n",
       "      <td>2015-10-10 02:36:19+00:00</td>\n",
       "    </tr>\n",
       "  </tbody>\n",
       "</table>\n",
       "</div>"
      ],
      "text/plain": [
       "                                  changeset  \\\n",
       "0  fdf8b40547652aff7a5162f526935f7a935b7dd9   \n",
       "1  97ea3fe9232ad06d4e5e2282f8f8f932f8975235   \n",
       "2  de32b6e1ca006bb985a4f4afd80f2c46548af68c   \n",
       "3  05e775f368f88d34e30fa6fdfba2ef378f75e944   \n",
       "4  67dd5fbeebaaa27522897a4c10cf81b96a05d562   \n",
       "\n",
       "                                      changeset_desc changeset_pushid  \\\n",
       "0  Bug 608416: Stop exceptions from cleanup funct...            16660   \n",
       "1  bug 608422 - cookies.sqlite-wal takes too much...            16661   \n",
       "2  Fix for bug 606705 (Browser crash when using m...            16662   \n",
       "3  Disallow sending JS functions to a different t...            16663   \n",
       "4  Follow-up for bug 608142: disallow sending bet...            16663   \n",
       "\n",
       "   changeset_pushtime       bug   bug_creation_time nightly_build_id  \\\n",
       "0 2010-10-30 18:59:52  608416.0 2010-10-29 22:17:37   20101031030736   \n",
       "1 2010-10-31 02:35:13  608422.0 2010-10-29 22:41:34   20101031030736   \n",
       "2 2010-10-31 04:37:53  606705.0 2010-10-23 20:19:55   20101031030736   \n",
       "3 2010-10-31 05:12:52  608142.0 2010-10-28 23:20:54   20101031030736   \n",
       "4 2010-10-31 05:12:52  608142.0 2010-10-28 23:20:54   20101031030736   \n",
       "\n",
       "       nightly_publish_time  \n",
       "0 2015-10-10 02:36:19+00:00  \n",
       "1 2015-10-10 02:36:19+00:00  \n",
       "2 2015-10-10 02:36:19+00:00  \n",
       "3 2015-10-10 02:36:19+00:00  \n",
       "4 2015-10-10 02:36:19+00:00  "
      ]
     },
     "execution_count": 135,
     "metadata": {},
     "output_type": "execute_result"
    }
   ],
   "source": [
    "df.head()"
   ]
  },
  {
   "cell_type": "markdown",
   "metadata": {},
   "source": [
    "*Lead Time* is the total time a work item is in process, including the time up-front when we are waiting for work to start.\n",
    "\n",
    "We will assume that the bug creation time is when the work was queued but not started (or started very soon after)."
   ]
  },
  {
   "cell_type": "code",
   "execution_count": 136,
   "metadata": {},
   "outputs": [],
   "source": [
    "df['bug_creation_time'] = df['bug_creation_time'].dt.tz_localize('UTC')"
   ]
  },
  {
   "cell_type": "code",
   "execution_count": 137,
   "metadata": {},
   "outputs": [],
   "source": [
    "df['year'] = df['nightly_publish_time'].dt.year"
   ]
  },
  {
   "cell_type": "code",
   "execution_count": 138,
   "metadata": {},
   "outputs": [
    {
     "data": {
      "text/plain": [
       "year\n",
       "2015    19009\n",
       "2016     3839\n",
       "2017     4792\n",
       "2018     4367\n",
       "dtype: int64"
      ]
     },
     "execution_count": 138,
     "metadata": {},
     "output_type": "execute_result"
    }
   ],
   "source": [
    "df.groupby('year').size()"
   ]
  },
  {
   "cell_type": "markdown",
   "metadata": {},
   "source": [
    "Looks like 2013 and 2014 nightly publishing times are messed up and polluting the 2015 data!"
   ]
  },
  {
   "cell_type": "code",
   "execution_count": 139,
   "metadata": {},
   "outputs": [
    {
     "data": {
      "text/plain": [
       "(13245, 9)"
      ]
     },
     "execution_count": 139,
     "metadata": {},
     "output_type": "execute_result"
    }
   ],
   "source": [
    "oops = df[(df['nightly_publish_time'].dt.year == 2015) & (df['changeset_pushtime'].dt.year <= 2014)]\n",
    "oops.shape"
   ]
  },
  {
   "cell_type": "code",
   "execution_count": 140,
   "metadata": {},
   "outputs": [
    {
     "data": {
      "text/html": [
       "<div>\n",
       "<style scoped>\n",
       "    .dataframe tbody tr th:only-of-type {\n",
       "        vertical-align: middle;\n",
       "    }\n",
       "\n",
       "    .dataframe tbody tr th {\n",
       "        vertical-align: top;\n",
       "    }\n",
       "\n",
       "    .dataframe thead th {\n",
       "        text-align: right;\n",
       "    }\n",
       "</style>\n",
       "<table border=\"1\" class=\"dataframe\">\n",
       "  <thead>\n",
       "    <tr style=\"text-align: right;\">\n",
       "      <th></th>\n",
       "      <th>changeset</th>\n",
       "      <th>changeset_desc</th>\n",
       "      <th>changeset_pushid</th>\n",
       "      <th>changeset_pushtime</th>\n",
       "      <th>bug</th>\n",
       "      <th>bug_creation_time</th>\n",
       "      <th>nightly_build_id</th>\n",
       "      <th>nightly_publish_time</th>\n",
       "      <th>year</th>\n",
       "    </tr>\n",
       "  </thead>\n",
       "  <tbody>\n",
       "    <tr>\n",
       "      <th>0</th>\n",
       "      <td>fdf8b40547652aff7a5162f526935f7a935b7dd9</td>\n",
       "      <td>Bug 608416: Stop exceptions from cleanup funct...</td>\n",
       "      <td>16660</td>\n",
       "      <td>2010-10-30 18:59:52</td>\n",
       "      <td>608416.0</td>\n",
       "      <td>2010-10-29 22:17:37+00:00</td>\n",
       "      <td>20101031030736</td>\n",
       "      <td>2015-10-10 02:36:19+00:00</td>\n",
       "      <td>2015</td>\n",
       "    </tr>\n",
       "    <tr>\n",
       "      <th>1</th>\n",
       "      <td>97ea3fe9232ad06d4e5e2282f8f8f932f8975235</td>\n",
       "      <td>bug 608422 - cookies.sqlite-wal takes too much...</td>\n",
       "      <td>16661</td>\n",
       "      <td>2010-10-31 02:35:13</td>\n",
       "      <td>608422.0</td>\n",
       "      <td>2010-10-29 22:41:34+00:00</td>\n",
       "      <td>20101031030736</td>\n",
       "      <td>2015-10-10 02:36:19+00:00</td>\n",
       "      <td>2015</td>\n",
       "    </tr>\n",
       "    <tr>\n",
       "      <th>2</th>\n",
       "      <td>de32b6e1ca006bb985a4f4afd80f2c46548af68c</td>\n",
       "      <td>Fix for bug 606705 (Browser crash when using m...</td>\n",
       "      <td>16662</td>\n",
       "      <td>2010-10-31 04:37:53</td>\n",
       "      <td>606705.0</td>\n",
       "      <td>2010-10-23 20:19:55+00:00</td>\n",
       "      <td>20101031030736</td>\n",
       "      <td>2015-10-10 02:36:19+00:00</td>\n",
       "      <td>2015</td>\n",
       "    </tr>\n",
       "    <tr>\n",
       "      <th>3</th>\n",
       "      <td>05e775f368f88d34e30fa6fdfba2ef378f75e944</td>\n",
       "      <td>Disallow sending JS functions to a different t...</td>\n",
       "      <td>16663</td>\n",
       "      <td>2010-10-31 05:12:52</td>\n",
       "      <td>608142.0</td>\n",
       "      <td>2010-10-28 23:20:54+00:00</td>\n",
       "      <td>20101031030736</td>\n",
       "      <td>2015-10-10 02:36:19+00:00</td>\n",
       "      <td>2015</td>\n",
       "    </tr>\n",
       "    <tr>\n",
       "      <th>4</th>\n",
       "      <td>67dd5fbeebaaa27522897a4c10cf81b96a05d562</td>\n",
       "      <td>Follow-up for bug 608142: disallow sending bet...</td>\n",
       "      <td>16663</td>\n",
       "      <td>2010-10-31 05:12:52</td>\n",
       "      <td>608142.0</td>\n",
       "      <td>2010-10-28 23:20:54+00:00</td>\n",
       "      <td>20101031030736</td>\n",
       "      <td>2015-10-10 02:36:19+00:00</td>\n",
       "      <td>2015</td>\n",
       "    </tr>\n",
       "  </tbody>\n",
       "</table>\n",
       "</div>"
      ],
      "text/plain": [
       "                                  changeset  \\\n",
       "0  fdf8b40547652aff7a5162f526935f7a935b7dd9   \n",
       "1  97ea3fe9232ad06d4e5e2282f8f8f932f8975235   \n",
       "2  de32b6e1ca006bb985a4f4afd80f2c46548af68c   \n",
       "3  05e775f368f88d34e30fa6fdfba2ef378f75e944   \n",
       "4  67dd5fbeebaaa27522897a4c10cf81b96a05d562   \n",
       "\n",
       "                                      changeset_desc changeset_pushid  \\\n",
       "0  Bug 608416: Stop exceptions from cleanup funct...            16660   \n",
       "1  bug 608422 - cookies.sqlite-wal takes too much...            16661   \n",
       "2  Fix for bug 606705 (Browser crash when using m...            16662   \n",
       "3  Disallow sending JS functions to a different t...            16663   \n",
       "4  Follow-up for bug 608142: disallow sending bet...            16663   \n",
       "\n",
       "   changeset_pushtime       bug         bug_creation_time nightly_build_id  \\\n",
       "0 2010-10-30 18:59:52  608416.0 2010-10-29 22:17:37+00:00   20101031030736   \n",
       "1 2010-10-31 02:35:13  608422.0 2010-10-29 22:41:34+00:00   20101031030736   \n",
       "2 2010-10-31 04:37:53  606705.0 2010-10-23 20:19:55+00:00   20101031030736   \n",
       "3 2010-10-31 05:12:52  608142.0 2010-10-28 23:20:54+00:00   20101031030736   \n",
       "4 2010-10-31 05:12:52  608142.0 2010-10-28 23:20:54+00:00   20101031030736   \n",
       "\n",
       "       nightly_publish_time  year  \n",
       "0 2015-10-10 02:36:19+00:00  2015  \n",
       "1 2015-10-10 02:36:19+00:00  2015  \n",
       "2 2015-10-10 02:36:19+00:00  2015  \n",
       "3 2015-10-10 02:36:19+00:00  2015  \n",
       "4 2015-10-10 02:36:19+00:00  2015  "
      ]
     },
     "execution_count": 140,
     "metadata": {},
     "output_type": "execute_result"
    }
   ],
   "source": [
    "oops.head()"
   ]
  },
  {
   "cell_type": "markdown",
   "metadata": {},
   "source": [
    "We can fill in the busted data by inferring the publishing time from the build time and mean build time from other years."
   ]
  },
  {
   "cell_type": "code",
   "execution_count": 141,
   "metadata": {},
   "outputs": [],
   "source": [
    "df['build_time'] = pd.to_datetime(df['nightly_build_id'], infer_datetime_format=True, utc=True)"
   ]
  },
  {
   "cell_type": "code",
   "execution_count": 142,
   "metadata": {},
   "outputs": [],
   "source": [
    "df['build_publish_duration'] = df['nightly_publish_time'] - df['build_time']"
   ]
  },
  {
   "cell_type": "code",
   "execution_count": 143,
   "metadata": {},
   "outputs": [],
   "source": [
    "pubstep = df.loc[:, ['year', 'build_publish_duration']]"
   ]
  },
  {
   "cell_type": "code",
   "execution_count": 144,
   "metadata": {},
   "outputs": [],
   "source": [
    "pubstep['build_days'] = pubstep['build_publish_duration'].dt.days"
   ]
  },
  {
   "cell_type": "code",
   "execution_count": 145,
   "metadata": {},
   "outputs": [
    {
     "data": {
      "text/html": [
       "<div>\n",
       "<style scoped>\n",
       "    .dataframe tbody tr th:only-of-type {\n",
       "        vertical-align: middle;\n",
       "    }\n",
       "\n",
       "    .dataframe tbody tr th {\n",
       "        vertical-align: top;\n",
       "    }\n",
       "\n",
       "    .dataframe thead th {\n",
       "        text-align: right;\n",
       "    }\n",
       "</style>\n",
       "<table border=\"1\" class=\"dataframe\">\n",
       "  <thead>\n",
       "    <tr style=\"text-align: right;\">\n",
       "      <th></th>\n",
       "      <th>build_days</th>\n",
       "    </tr>\n",
       "    <tr>\n",
       "      <th>year</th>\n",
       "      <th></th>\n",
       "    </tr>\n",
       "  </thead>\n",
       "  <tbody>\n",
       "    <tr>\n",
       "      <th>2016</th>\n",
       "      <td>0.040636</td>\n",
       "    </tr>\n",
       "    <tr>\n",
       "      <th>2017</th>\n",
       "      <td>0.000000</td>\n",
       "    </tr>\n",
       "    <tr>\n",
       "      <th>2018</th>\n",
       "      <td>0.000000</td>\n",
       "    </tr>\n",
       "  </tbody>\n",
       "</table>\n",
       "</div>"
      ],
      "text/plain": [
       "      build_days\n",
       "year            \n",
       "2016    0.040636\n",
       "2017    0.000000\n",
       "2018    0.000000"
      ]
     },
     "execution_count": 145,
     "metadata": {},
     "output_type": "execute_result"
    }
   ],
   "source": [
    "pubstep[pubstep['year'] > 2015].groupby('year').mean()"
   ]
  },
  {
   "cell_type": "markdown",
   "metadata": {},
   "source": [
    "Since the number of days build times contribute to the total end-to-end time appears insignificant we can just ignore it and \"fix\" the nightly publish time by setting it to the build time + 0.05 days."
   ]
  },
  {
   "cell_type": "code",
   "execution_count": 146,
   "metadata": {},
   "outputs": [],
   "source": [
    "bogus_years = df[(df['build_time'].dt.year < 2015) & ((df['nightly_publish_time'] - df['build_time']).dt.days > 30)].copy()"
   ]
  },
  {
   "cell_type": "code",
   "execution_count": 147,
   "metadata": {},
   "outputs": [
    {
     "data": {
      "text/plain": [
       "count                         13245\n",
       "unique                          157\n",
       "top       2015-10-16 16:22:44+00:00\n",
       "freq                            387\n",
       "first     2015-10-10 02:26:31+00:00\n",
       "last      2015-10-20 09:29:34+00:00\n",
       "Name: nightly_publish_time, dtype: object"
      ]
     },
     "execution_count": 147,
     "metadata": {},
     "output_type": "execute_result"
    }
   ],
   "source": [
    "bogus_years['nightly_publish_time'].describe()"
   ]
  },
  {
   "cell_type": "code",
   "execution_count": 148,
   "metadata": {},
   "outputs": [],
   "source": [
    "bogus_years['nightly_publish_time'] = bogus_years['build_time'] + pd.Timedelta('0.05 day')"
   ]
  },
  {
   "cell_type": "code",
   "execution_count": 149,
   "metadata": {},
   "outputs": [
    {
     "data": {
      "text/plain": [
       "count                         13245\n",
       "unique                          157\n",
       "top       2014-10-21 04:14:08+00:00\n",
       "freq                            387\n",
       "first     2010-10-02 04:17:50+00:00\n",
       "last      2014-10-31 07:30:04+00:00\n",
       "Name: nightly_publish_time, dtype: object"
      ]
     },
     "execution_count": 149,
     "metadata": {},
     "output_type": "execute_result"
    }
   ],
   "source": [
    "bogus_years['nightly_publish_time'].describe()"
   ]
  },
  {
   "cell_type": "code",
   "execution_count": 150,
   "metadata": {},
   "outputs": [],
   "source": [
    "df.update(bogus_years)"
   ]
  },
  {
   "cell_type": "code",
   "execution_count": 151,
   "metadata": {},
   "outputs": [],
   "source": [
    "df['year'] = df['nightly_publish_time'].dt.year"
   ]
  },
  {
   "cell_type": "code",
   "execution_count": 152,
   "metadata": {},
   "outputs": [
    {
     "data": {
      "text/plain": [
       "year\n",
       "2010    1659\n",
       "2011    1367\n",
       "2012    2831\n",
       "2013    3043\n",
       "2014    4345\n",
       "2015    5764\n",
       "2016    3839\n",
       "2017    4792\n",
       "2018    4367\n",
       "dtype: int64"
      ]
     },
     "execution_count": 152,
     "metadata": {},
     "output_type": "execute_result"
    }
   ],
   "source": [
    "df.groupby('year').size()"
   ]
  },
  {
   "cell_type": "markdown",
   "metadata": {},
   "source": [
    "That looks better.  Now we can calculate the end-to-end lead time for each commit."
   ]
  },
  {
   "cell_type": "code",
   "execution_count": 153,
   "metadata": {},
   "outputs": [],
   "source": [
    "df['lead_time'] = df['nightly_publish_time'] - df['bug_creation_time']"
   ]
  },
  {
   "cell_type": "code",
   "execution_count": 154,
   "metadata": {},
   "outputs": [],
   "source": [
    "df['lead_seconds'] = df['lead_time'].dt.total_seconds()"
   ]
  },
  {
   "cell_type": "code",
   "execution_count": 155,
   "metadata": {},
   "outputs": [],
   "source": [
    "df['lead_days'] = df['lead_time'].dt.days"
   ]
  },
  {
   "cell_type": "code",
   "execution_count": 156,
   "metadata": {},
   "outputs": [
    {
     "data": {
      "text/plain": [
       "count                        32007\n",
       "mean      376 days 18:17:06.228200\n",
       "std      1221 days 07:39:27.600251\n",
       "min            -878 days +03:14:35\n",
       "25%         5 days 04:09:05.500000\n",
       "50%               18 days 09:02:34\n",
       "75%               85 days 22:09:15\n",
       "max             6965 days 08:27:35\n",
       "Name: lead_time, dtype: object"
      ]
     },
     "execution_count": 156,
     "metadata": {},
     "output_type": "execute_result"
    }
   ],
   "source": [
    "df['lead_time'].describe()"
   ]
  },
  {
   "cell_type": "markdown",
   "metadata": {},
   "source": [
    "We need to drop any records where the bug was filed after the code landed."
   ]
  },
  {
   "cell_type": "code",
   "execution_count": 157,
   "metadata": {},
   "outputs": [],
   "source": [
    "late_bugs = df[df['lead_time'].dt.days < 0]"
   ]
  },
  {
   "cell_type": "code",
   "execution_count": 158,
   "metadata": {},
   "outputs": [],
   "source": [
    "df = df.drop(late_bugs.index)"
   ]
  },
  {
   "cell_type": "code",
   "execution_count": 159,
   "metadata": {},
   "outputs": [
    {
     "data": {
      "text/plain": [
       "count                        31999\n",
       "mean      376 days 21:49:54.993343\n",
       "std      1221 days 10:15:30.214477\n",
       "min                0 days 01:00:24\n",
       "25%                5 days 04:22:34\n",
       "50%               18 days 09:27:22\n",
       "75%               85 days 22:09:15\n",
       "max             6965 days 08:27:35\n",
       "Name: lead_time, dtype: object"
      ]
     },
     "execution_count": 159,
     "metadata": {},
     "output_type": "execute_result"
    }
   ],
   "source": [
    "df['lead_time'].describe()"
   ]
  },
  {
   "cell_type": "code",
   "execution_count": 160,
   "metadata": {},
   "outputs": [],
   "source": [
    "years = df.groupby('year')"
   ]
  },
  {
   "cell_type": "code",
   "execution_count": 161,
   "metadata": {},
   "outputs": [
    {
     "data": {
      "text/html": [
       "<div>\n",
       "<style scoped>\n",
       "    .dataframe tbody tr th:only-of-type {\n",
       "        vertical-align: middle;\n",
       "    }\n",
       "\n",
       "    .dataframe tbody tr th {\n",
       "        vertical-align: top;\n",
       "    }\n",
       "\n",
       "    .dataframe thead th {\n",
       "        text-align: right;\n",
       "    }\n",
       "</style>\n",
       "<table border=\"1\" class=\"dataframe\">\n",
       "  <thead>\n",
       "    <tr style=\"text-align: right;\">\n",
       "      <th></th>\n",
       "      <th>count</th>\n",
       "      <th>mean</th>\n",
       "      <th>std</th>\n",
       "      <th>min</th>\n",
       "      <th>25%</th>\n",
       "      <th>50%</th>\n",
       "      <th>75%</th>\n",
       "      <th>max</th>\n",
       "    </tr>\n",
       "    <tr>\n",
       "      <th>year</th>\n",
       "      <th></th>\n",
       "      <th></th>\n",
       "      <th></th>\n",
       "      <th></th>\n",
       "      <th></th>\n",
       "      <th></th>\n",
       "      <th></th>\n",
       "      <th></th>\n",
       "    </tr>\n",
       "  </thead>\n",
       "  <tbody>\n",
       "    <tr>\n",
       "      <th>2010</th>\n",
       "      <td>1657.0</td>\n",
       "      <td>103.360893</td>\n",
       "      <td>346.965070</td>\n",
       "      <td>0.0</td>\n",
       "      <td>6.0</td>\n",
       "      <td>23.0</td>\n",
       "      <td>85.0</td>\n",
       "      <td>4529.0</td>\n",
       "    </tr>\n",
       "    <tr>\n",
       "      <th>2011</th>\n",
       "      <td>1365.0</td>\n",
       "      <td>121.580220</td>\n",
       "      <td>381.120322</td>\n",
       "      <td>0.0</td>\n",
       "      <td>5.0</td>\n",
       "      <td>17.0</td>\n",
       "      <td>84.0</td>\n",
       "      <td>4419.0</td>\n",
       "    </tr>\n",
       "    <tr>\n",
       "      <th>2012</th>\n",
       "      <td>2829.0</td>\n",
       "      <td>95.892188</td>\n",
       "      <td>336.323517</td>\n",
       "      <td>0.0</td>\n",
       "      <td>3.0</td>\n",
       "      <td>11.0</td>\n",
       "      <td>47.0</td>\n",
       "      <td>4812.0</td>\n",
       "    </tr>\n",
       "    <tr>\n",
       "      <th>2013</th>\n",
       "      <td>3041.0</td>\n",
       "      <td>755.339033</td>\n",
       "      <td>1717.449028</td>\n",
       "      <td>0.0</td>\n",
       "      <td>5.0</td>\n",
       "      <td>23.0</td>\n",
       "      <td>152.0</td>\n",
       "      <td>5420.0</td>\n",
       "    </tr>\n",
       "    <tr>\n",
       "      <th>2014</th>\n",
       "      <td>4345.0</td>\n",
       "      <td>639.431530</td>\n",
       "      <td>1604.493075</td>\n",
       "      <td>0.0</td>\n",
       "      <td>5.0</td>\n",
       "      <td>23.0</td>\n",
       "      <td>136.0</td>\n",
       "      <td>5856.0</td>\n",
       "    </tr>\n",
       "    <tr>\n",
       "      <th>2015</th>\n",
       "      <td>5764.0</td>\n",
       "      <td>592.546149</td>\n",
       "      <td>1574.542164</td>\n",
       "      <td>0.0</td>\n",
       "      <td>12.0</td>\n",
       "      <td>29.0</td>\n",
       "      <td>105.0</td>\n",
       "      <td>6050.0</td>\n",
       "    </tr>\n",
       "    <tr>\n",
       "      <th>2016</th>\n",
       "      <td>3839.0</td>\n",
       "      <td>138.618130</td>\n",
       "      <td>471.560738</td>\n",
       "      <td>0.0</td>\n",
       "      <td>5.0</td>\n",
       "      <td>17.0</td>\n",
       "      <td>83.0</td>\n",
       "      <td>6120.0</td>\n",
       "    </tr>\n",
       "    <tr>\n",
       "      <th>2017</th>\n",
       "      <td>4792.0</td>\n",
       "      <td>402.960559</td>\n",
       "      <td>1375.892490</td>\n",
       "      <td>0.0</td>\n",
       "      <td>3.0</td>\n",
       "      <td>10.0</td>\n",
       "      <td>57.0</td>\n",
       "      <td>6782.0</td>\n",
       "    </tr>\n",
       "    <tr>\n",
       "      <th>2018</th>\n",
       "      <td>4367.0</td>\n",
       "      <td>110.434852</td>\n",
       "      <td>397.294404</td>\n",
       "      <td>0.0</td>\n",
       "      <td>3.0</td>\n",
       "      <td>10.0</td>\n",
       "      <td>55.0</td>\n",
       "      <td>6965.0</td>\n",
       "    </tr>\n",
       "  </tbody>\n",
       "</table>\n",
       "</div>"
      ],
      "text/plain": [
       "       count        mean          std  min   25%   50%    75%     max\n",
       "year                                                                 \n",
       "2010  1657.0  103.360893   346.965070  0.0   6.0  23.0   85.0  4529.0\n",
       "2011  1365.0  121.580220   381.120322  0.0   5.0  17.0   84.0  4419.0\n",
       "2012  2829.0   95.892188   336.323517  0.0   3.0  11.0   47.0  4812.0\n",
       "2013  3041.0  755.339033  1717.449028  0.0   5.0  23.0  152.0  5420.0\n",
       "2014  4345.0  639.431530  1604.493075  0.0   5.0  23.0  136.0  5856.0\n",
       "2015  5764.0  592.546149  1574.542164  0.0  12.0  29.0  105.0  6050.0\n",
       "2016  3839.0  138.618130   471.560738  0.0   5.0  17.0   83.0  6120.0\n",
       "2017  4792.0  402.960559  1375.892490  0.0   3.0  10.0   57.0  6782.0\n",
       "2018  4367.0  110.434852   397.294404  0.0   3.0  10.0   55.0  6965.0"
      ]
     },
     "execution_count": 161,
     "metadata": {},
     "output_type": "execute_result"
    }
   ],
   "source": [
    "years['lead_days'].describe()"
   ]
  },
  {
   "cell_type": "code",
   "execution_count": 162,
   "metadata": {},
   "outputs": [
    {
     "data": {
      "image/png": "[encoded data removed]",
      "text/plain": [
       "<Figure size 432x288 with 1 Axes>"
      ]
     },
     "metadata": {
      "needs_background": "light"
     },
     "output_type": "display_data"
    }
   ],
   "source": [
    "for group in years.groups:\n",
    "    year = years.get_group(group)[['lead_time', 'lead_days']]\n",
    "    sns.kdeplot(year['lead_days'], label=group)"
   ]
  },
  {
   "cell_type": "markdown",
   "metadata": {},
   "source": [
    "## The last 90 days\n",
    "\n",
    "Let's show only the commits where the bug was filed in the last 90 days."
   ]
  },
  {
   "cell_type": "code",
   "execution_count": 163,
   "metadata": {},
   "outputs": [
    {
     "data": {
      "text/html": [
       "<div>\n",
       "<style scoped>\n",
       "    .dataframe tbody tr th:only-of-type {\n",
       "        vertical-align: middle;\n",
       "    }\n",
       "\n",
       "    .dataframe tbody tr th {\n",
       "        vertical-align: top;\n",
       "    }\n",
       "\n",
       "    .dataframe thead tr th {\n",
       "        text-align: left;\n",
       "    }\n",
       "\n",
       "    .dataframe thead tr:last-of-type th {\n",
       "        text-align: right;\n",
       "    }\n",
       "</style>\n",
       "<table border=\"1\" class=\"dataframe\">\n",
       "  <thead>\n",
       "    <tr>\n",
       "      <th></th>\n",
       "      <th colspan=\"8\" halign=\"left\">lead_days</th>\n",
       "    </tr>\n",
       "    <tr>\n",
       "      <th></th>\n",
       "      <th>count</th>\n",
       "      <th>mean</th>\n",
       "      <th>std</th>\n",
       "      <th>min</th>\n",
       "      <th>25%</th>\n",
       "      <th>50%</th>\n",
       "      <th>75%</th>\n",
       "      <th>max</th>\n",
       "    </tr>\n",
       "    <tr>\n",
       "      <th>year</th>\n",
       "      <th></th>\n",
       "      <th></th>\n",
       "      <th></th>\n",
       "      <th></th>\n",
       "      <th></th>\n",
       "      <th></th>\n",
       "      <th></th>\n",
       "      <th></th>\n",
       "    </tr>\n",
       "  </thead>\n",
       "  <tbody>\n",
       "    <tr>\n",
       "      <th>2010</th>\n",
       "      <td>1361.0</td>\n",
       "      <td>25.897869</td>\n",
       "      <td>27.311665</td>\n",
       "      <td>0.0</td>\n",
       "      <td>4.0</td>\n",
       "      <td>15.0</td>\n",
       "      <td>40.0</td>\n",
       "      <td>90.0</td>\n",
       "    </tr>\n",
       "    <tr>\n",
       "      <th>2011</th>\n",
       "      <td>1037.0</td>\n",
       "      <td>18.290260</td>\n",
       "      <td>21.048107</td>\n",
       "      <td>0.0</td>\n",
       "      <td>3.0</td>\n",
       "      <td>9.0</td>\n",
       "      <td>26.0</td>\n",
       "      <td>90.0</td>\n",
       "    </tr>\n",
       "    <tr>\n",
       "      <th>2012</th>\n",
       "      <td>2302.0</td>\n",
       "      <td>14.307559</td>\n",
       "      <td>18.061297</td>\n",
       "      <td>0.0</td>\n",
       "      <td>2.0</td>\n",
       "      <td>7.0</td>\n",
       "      <td>19.0</td>\n",
       "      <td>90.0</td>\n",
       "    </tr>\n",
       "    <tr>\n",
       "      <th>2013</th>\n",
       "      <td>2127.0</td>\n",
       "      <td>18.303714</td>\n",
       "      <td>20.791622</td>\n",
       "      <td>0.0</td>\n",
       "      <td>3.0</td>\n",
       "      <td>9.0</td>\n",
       "      <td>27.0</td>\n",
       "      <td>90.0</td>\n",
       "    </tr>\n",
       "    <tr>\n",
       "      <th>2014</th>\n",
       "      <td>3072.0</td>\n",
       "      <td>17.946615</td>\n",
       "      <td>20.694529</td>\n",
       "      <td>0.0</td>\n",
       "      <td>3.0</td>\n",
       "      <td>8.0</td>\n",
       "      <td>27.0</td>\n",
       "      <td>90.0</td>\n",
       "    </tr>\n",
       "    <tr>\n",
       "      <th>2015</th>\n",
       "      <td>4161.0</td>\n",
       "      <td>24.291036</td>\n",
       "      <td>20.950930</td>\n",
       "      <td>0.0</td>\n",
       "      <td>8.0</td>\n",
       "      <td>20.0</td>\n",
       "      <td>31.0</td>\n",
       "      <td>90.0</td>\n",
       "    </tr>\n",
       "    <tr>\n",
       "      <th>2016</th>\n",
       "      <td>2904.0</td>\n",
       "      <td>19.877410</td>\n",
       "      <td>23.085893</td>\n",
       "      <td>0.0</td>\n",
       "      <td>3.0</td>\n",
       "      <td>8.0</td>\n",
       "      <td>29.0</td>\n",
       "      <td>90.0</td>\n",
       "    </tr>\n",
       "    <tr>\n",
       "      <th>2017</th>\n",
       "      <td>3753.0</td>\n",
       "      <td>13.060751</td>\n",
       "      <td>17.460725</td>\n",
       "      <td>0.0</td>\n",
       "      <td>2.0</td>\n",
       "      <td>6.0</td>\n",
       "      <td>16.0</td>\n",
       "      <td>90.0</td>\n",
       "    </tr>\n",
       "    <tr>\n",
       "      <th>2018</th>\n",
       "      <td>3498.0</td>\n",
       "      <td>14.132361</td>\n",
       "      <td>19.477091</td>\n",
       "      <td>0.0</td>\n",
       "      <td>2.0</td>\n",
       "      <td>6.0</td>\n",
       "      <td>15.0</td>\n",
       "      <td>90.0</td>\n",
       "    </tr>\n",
       "  </tbody>\n",
       "</table>\n",
       "</div>"
      ],
      "text/plain": [
       "     lead_days                                                  \n",
       "         count       mean        std  min  25%   50%   75%   max\n",
       "year                                                            \n",
       "2010    1361.0  25.897869  27.311665  0.0  4.0  15.0  40.0  90.0\n",
       "2011    1037.0  18.290260  21.048107  0.0  3.0   9.0  26.0  90.0\n",
       "2012    2302.0  14.307559  18.061297  0.0  2.0   7.0  19.0  90.0\n",
       "2013    2127.0  18.303714  20.791622  0.0  3.0   9.0  27.0  90.0\n",
       "2014    3072.0  17.946615  20.694529  0.0  3.0   8.0  27.0  90.0\n",
       "2015    4161.0  24.291036  20.950930  0.0  8.0  20.0  31.0  90.0\n",
       "2016    2904.0  19.877410  23.085893  0.0  3.0   8.0  29.0  90.0\n",
       "2017    3753.0  13.060751  17.460725  0.0  2.0   6.0  16.0  90.0\n",
       "2018    3498.0  14.132361  19.477091  0.0  2.0   6.0  15.0  90.0"
      ]
     },
     "execution_count": 163,
     "metadata": {},
     "output_type": "execute_result"
    }
   ],
   "source": [
    "yd = df.loc[:,['year', 'lead_days']]\n",
    "shortgrp = yd[yd['lead_days'] <= 90].groupby('year')\n",
    "shortgrp.describe()"
   ]
  },
  {
   "cell_type": "code",
   "execution_count": 164,
   "metadata": {},
   "outputs": [
    {
     "data": {
      "image/png": "[encoded data removed]",
      "text/plain": [
       "<Figure size 432x288 with 1 Axes>"
      ]
     },
     "metadata": {
      "needs_background": "light"
     },
     "output_type": "display_data"
    }
   ],
   "source": [
    "sns.distplot(shortgrp.get_group(2018)['lead_days'], kde=False);"
   ]
  },
  {
   "cell_type": "code",
   "execution_count": 165,
   "metadata": {},
   "outputs": [
    {
     "data": {
      "image/png": "[encoded data removed]",
      "text/plain": [
       "<Figure size 432x288 with 1 Axes>"
      ]
     },
     "metadata": {
      "needs_background": "light"
     },
     "output_type": "display_data"
    }
   ],
   "source": [
    "for year, data in shortgrp:\n",
    "    sns.kdeplot(data['lead_days'], label=year)"
   ]
  },
  {
   "cell_type": "code",
   "execution_count": 166,
   "metadata": {},
   "outputs": [
    {
     "data": {
      "image/png": "[encoded data removed]",
      "text/plain": [
       "<Figure size 432x288 with 1 Axes>"
      ]
     },
     "metadata": {
      "needs_background": "light"
     },
     "output_type": "display_data"
    }
   ],
   "source": [
    "for year, data in shortgrp:\n",
    "    sns.kdeplot(data['lead_days'], label=year, cumulative=True)"
   ]
  },
  {
   "cell_type": "markdown",
   "metadata": {},
   "source": [
    "### Decline 2012-2015\n",
    "\n",
    "Notice how productivity took a hit in 2013-2015"
   ]
  },
  {
   "cell_type": "code",
   "execution_count": 167,
   "metadata": {},
   "outputs": [],
   "source": [
    "milestone_years = (2012, 2013, 2015, 2018)"
   ]
  },
  {
   "cell_type": "code",
   "execution_count": 168,
   "metadata": {},
   "outputs": [
    {
     "data": {
      "image/png": "[encoded data removed]",
      "text/plain": [
       "<Figure size 432x288 with 1 Axes>"
      ]
     },
     "metadata": {
      "needs_background": "light"
     },
     "output_type": "display_data"
    }
   ],
   "source": [
    "for year in milestone_years:\n",
    "    sns.kdeplot(shortgrp.get_group(year)['lead_days'], label=year)"
   ]
  },
  {
   "cell_type": "code",
   "execution_count": 169,
   "metadata": {},
   "outputs": [
    {
     "data": {
      "image/png": "[encoded data removed]",
      "text/plain": [
       "<Figure size 432x288 with 1 Axes>"
      ]
     },
     "metadata": {
      "needs_background": "light"
     },
     "output_type": "display_data"
    }
   ],
   "source": [
    "for year in milestone_years:\n",
    "    sns.kdeplot(shortgrp.get_group(year)['lead_days'], label=year, cumulative=True)"
   ]
  },
  {
   "cell_type": "markdown",
   "metadata": {},
   "source": [
    "### Recovery 2015-2018\n",
    "\n",
    "And how it recovered 2015-2018"
   ]
  },
  {
   "cell_type": "code",
   "execution_count": 173,
   "metadata": {},
   "outputs": [],
   "source": [
    "recovery_years = (2015, 2016, 2017, 2018)"
   ]
  },
  {
   "cell_type": "code",
   "execution_count": 174,
   "metadata": {},
   "outputs": [
    {
     "data": {
      "image/png": "[encoded data removed]",
      "text/plain": [
       "<Figure size 432x288 with 1 Axes>"
      ]
     },
     "metadata": {
      "needs_background": "light"
     },
     "output_type": "display_data"
    }
   ],
   "source": [
    "for year in recovery_years:\n",
    "    sns.kdeplot(shortgrp.get_group(year)['lead_days'], label=year)"
   ]
  },
  {
   "cell_type": "code",
   "execution_count": 175,
   "metadata": {},
   "outputs": [
    {
     "data": {
      "image/png": "[encoded data removed]",
      "text/plain": [
       "<Figure size 432x288 with 1 Axes>"
      ]
     },
     "metadata": {
      "needs_background": "light"
     },
     "output_type": "display_data"
    }
   ],
   "source": [
    "for year in recovery_years:\n",
    "    sns.kdeplot(shortgrp.get_group(year)['lead_days'], label=year, cumulative=True)"
   ]
  },
  {
   "cell_type": "code",
   "execution_count": null,
   "metadata": {},
   "outputs": [],
   "source": []
  }
 ],
 "metadata": {
  "kernelspec": {
   "display_name": "Python 3",
   "language": "python",
   "name": "python3"
  },
  "language_info": {
   "codemirror_mode": {
    "name": "ipython",
    "version": 3
   },
   "file_extension": ".py",
   "mimetype": "text/x-python",
   "name": "python",
   "nbconvert_exporter": "python",
   "pygments_lexer": "ipython3",
   "version": "3.6.5"
  }
 },
 "nbformat": 4,
 "nbformat_minor": 2
}
